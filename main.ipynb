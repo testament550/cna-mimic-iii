{
 "cells": [
  {
   "cell_type": "markdown",
   "metadata": {},
   "source": [
    "# Defining multimorbidity using graph-based approaches in a clinical population"
   ]
  },
  {
   "cell_type": "code",
   "execution_count": 69,
   "metadata": {},
   "outputs": [],
   "source": [
    "import matplotlib.pyplot as plt\n",
    "import pandas as pd\n",
    "import seaborn as sns\n",
    "import numpy as np"
   ]
  },
  {
   "cell_type": "markdown",
   "metadata": {},
   "source": [
    "In order to run this code, you need to have access to MIMIC-III dataset. \n",
    "You can request access to the dataset here: https://mimic.physionet.org/gettingstarted/access/."
   ]
  },
  {
   "cell_type": "markdown",
   "metadata": {},
   "source": [
    "You have 2 options to run the dataset:\n",
    "\n",
    "Either from Google Cloud Platform (GCP) or from your local machine.\n",
    "\n",
    "In our case scenario we don't need to use the full dataset and we are lucky enough our local machine can handle the dataset."
   ]
  },
  {
   "cell_type": "markdown",
   "metadata": {},
   "source": [
    "## Data Imports"
   ]
  },
  {
   "cell_type": "code",
   "execution_count": 70,
   "metadata": {},
   "outputs": [],
   "source": [
    "paths = {\n",
    "    'patients': 'database/PATIENTS.csv.gz',\n",
    "    'admissions': 'database/ADMISSIONS.csv.gz',\n",
    "    'diagnoses_icd': 'database/DIAGNOSES_ICD.csv.gz',\n",
    "    'd_icd_diagnoses': 'database/D_ICD_DIAGNOSES.csv.gz',\n",
    "}\n",
    "\n",
    "patients_df = pd.read_csv(paths['patients'], compression='gzip')\n",
    "admissions_df = pd.read_csv(paths['admissions'], compression='gzip')\n",
    "diagnoses_icd_df = pd.read_csv(paths['diagnoses_icd'], compression='gzip')\n",
    "d_icd_diagnoses_df = pd.read_csv(paths['d_icd_diagnoses'], compression='gzip')"
   ]
  },
  {
   "cell_type": "markdown",
   "metadata": {},
   "source": [
    "## Functions"
   ]
  },
  {
   "cell_type": "code",
   "execution_count": 71,
   "metadata": {},
   "outputs": [],
   "source": [
    "def value_counts_with_percentage(series):\n",
    "    value_counts = series.value_counts()\n",
    "\n",
    "    percentages = value_counts / len(series) * 100\n",
    "\n",
    "    result_df = pd.DataFrame({\n",
    "        'Count': value_counts,\n",
    "        'Percentage': percentages\n",
    "    })\n",
    "\n",
    "    na_count = series.isna().sum()\n",
    "    if na_count > 0:\n",
    "        na_row = pd.DataFrame({'Count': [na_count], 'Percentage': na_count / len(series) * 100}, index=['NA'])\n",
    "        result_df = pd.concat([na_row, result_df])\n",
    "\n",
    "\n",
    "    result_df['Percentage'] = result_df['Percentage'].map('{:.2f}%'.format)\n",
    "\n",
    "    total_count = series.count() + na_count\n",
    "    total_row = pd.DataFrame({'Count': [total_count], 'Percentage': ''}, index=['Total'])\n",
    "    result_df = pd.concat([result_df, total_row])\n",
    "\n",
    "    return result_df"
   ]
  },
  {
   "cell_type": "markdown",
   "metadata": {},
   "source": [
    "## Dataset Exploration"
   ]
  },
  {
   "cell_type": "markdown",
   "metadata": {},
   "source": [
    "### MIMIC-III Database\n",
    "\n",
    "Johnson, A. E. W., Pollard, T. J., Shen, L., Lehman, L. W. H., Feng, M., Ghassemi, M., Moody, B., Szolovits, P., Anthony Celi, L., & Mark, R. G. (2016). MIMIC-III, a freely accessible critical care database. Scientific Data, 3. https://doi.org/10.1038/sdata.2016.35"
   ]
  },
  {
   "cell_type": "markdown",
   "metadata": {},
   "source": [
    "### Patients Table"
   ]
  },
  {
   "cell_type": "markdown",
   "metadata": {},
   "source": [
    "`subject_id` : unique identifier for patients\n",
    "\n",
    "`gender` : gender of the patient\n",
    "\n",
    "`dob` : date of birth\n",
    "\n",
    "`dod` : date of death <br>\n",
    "If NULL the patient was alive at the time of database creation.\n",
    "\n",
    "`dod_hosp` : date of death in the hospital <br>\n",
    "If NULL the patient did not die in the hospital.\n",
    "\n",
    "`dod_ssn` : date of death as recorded by the Social Security Administration.\n",
    "\n",
    "`expire_flag` : in-hospital mortality <br>\n",
    "1 if the patient died in the hospital <br>\n",
    "0 otherwise"
   ]
  },
  {
   "cell_type": "code",
   "execution_count": 72,
   "metadata": {},
   "outputs": [
    {
     "data": {
      "text/html": [
       "<div>\n",
       "<style scoped>\n",
       "    .dataframe tbody tr th:only-of-type {\n",
       "        vertical-align: middle;\n",
       "    }\n",
       "\n",
       "    .dataframe tbody tr th {\n",
       "        vertical-align: top;\n",
       "    }\n",
       "\n",
       "    .dataframe thead th {\n",
       "        text-align: right;\n",
       "    }\n",
       "</style>\n",
       "<table border=\"1\" class=\"dataframe\">\n",
       "  <thead>\n",
       "    <tr style=\"text-align: right;\">\n",
       "      <th></th>\n",
       "      <th>ROW_ID</th>\n",
       "      <th>SUBJECT_ID</th>\n",
       "      <th>GENDER</th>\n",
       "      <th>DOB</th>\n",
       "      <th>DOD</th>\n",
       "      <th>DOD_HOSP</th>\n",
       "      <th>DOD_SSN</th>\n",
       "      <th>EXPIRE_FLAG</th>\n",
       "    </tr>\n",
       "  </thead>\n",
       "  <tbody>\n",
       "    <tr>\n",
       "      <th>0</th>\n",
       "      <td>234</td>\n",
       "      <td>249</td>\n",
       "      <td>F</td>\n",
       "      <td>2075-03-13 00:00:00</td>\n",
       "      <td>NaN</td>\n",
       "      <td>NaN</td>\n",
       "      <td>NaN</td>\n",
       "      <td>0</td>\n",
       "    </tr>\n",
       "    <tr>\n",
       "      <th>1</th>\n",
       "      <td>235</td>\n",
       "      <td>250</td>\n",
       "      <td>F</td>\n",
       "      <td>2164-12-27 00:00:00</td>\n",
       "      <td>2188-11-22 00:00:00</td>\n",
       "      <td>2188-11-22 00:00:00</td>\n",
       "      <td>NaN</td>\n",
       "      <td>1</td>\n",
       "    </tr>\n",
       "    <tr>\n",
       "      <th>2</th>\n",
       "      <td>236</td>\n",
       "      <td>251</td>\n",
       "      <td>M</td>\n",
       "      <td>2090-03-15 00:00:00</td>\n",
       "      <td>NaN</td>\n",
       "      <td>NaN</td>\n",
       "      <td>NaN</td>\n",
       "      <td>0</td>\n",
       "    </tr>\n",
       "    <tr>\n",
       "      <th>3</th>\n",
       "      <td>237</td>\n",
       "      <td>252</td>\n",
       "      <td>M</td>\n",
       "      <td>2078-03-06 00:00:00</td>\n",
       "      <td>NaN</td>\n",
       "      <td>NaN</td>\n",
       "      <td>NaN</td>\n",
       "      <td>0</td>\n",
       "    </tr>\n",
       "    <tr>\n",
       "      <th>4</th>\n",
       "      <td>238</td>\n",
       "      <td>253</td>\n",
       "      <td>F</td>\n",
       "      <td>2089-11-26 00:00:00</td>\n",
       "      <td>NaN</td>\n",
       "      <td>NaN</td>\n",
       "      <td>NaN</td>\n",
       "      <td>0</td>\n",
       "    </tr>\n",
       "  </tbody>\n",
       "</table>\n",
       "</div>"
      ],
      "text/plain": [
       "   ROW_ID  SUBJECT_ID GENDER                  DOB                  DOD  \\\n",
       "0     234         249      F  2075-03-13 00:00:00                  NaN   \n",
       "1     235         250      F  2164-12-27 00:00:00  2188-11-22 00:00:00   \n",
       "2     236         251      M  2090-03-15 00:00:00                  NaN   \n",
       "3     237         252      M  2078-03-06 00:00:00                  NaN   \n",
       "4     238         253      F  2089-11-26 00:00:00                  NaN   \n",
       "\n",
       "              DOD_HOSP DOD_SSN  EXPIRE_FLAG  \n",
       "0                  NaN     NaN            0  \n",
       "1  2188-11-22 00:00:00     NaN            1  \n",
       "2                  NaN     NaN            0  \n",
       "3                  NaN     NaN            0  \n",
       "4                  NaN     NaN            0  "
      ]
     },
     "execution_count": 72,
     "metadata": {},
     "output_type": "execute_result"
    }
   ],
   "source": [
    "patients_df.head()"
   ]
  },
  {
   "cell_type": "code",
   "execution_count": 73,
   "metadata": {},
   "outputs": [
    {
     "name": "stdout",
     "output_type": "stream",
     "text": [
      "Number of unique patients: 46520\n"
     ]
    }
   ],
   "source": [
    "print('Number of unique patients:', len(patients_df))"
   ]
  },
  {
   "cell_type": "code",
   "execution_count": 74,
   "metadata": {},
   "outputs": [
    {
     "data": {
      "text/html": [
       "<div>\n",
       "<style scoped>\n",
       "    .dataframe tbody tr th:only-of-type {\n",
       "        vertical-align: middle;\n",
       "    }\n",
       "\n",
       "    .dataframe tbody tr th {\n",
       "        vertical-align: top;\n",
       "    }\n",
       "\n",
       "    .dataframe thead th {\n",
       "        text-align: right;\n",
       "    }\n",
       "</style>\n",
       "<table border=\"1\" class=\"dataframe\">\n",
       "  <thead>\n",
       "    <tr style=\"text-align: right;\">\n",
       "      <th></th>\n",
       "      <th>Count</th>\n",
       "      <th>Percentage</th>\n",
       "    </tr>\n",
       "  </thead>\n",
       "  <tbody>\n",
       "    <tr>\n",
       "      <th>M</th>\n",
       "      <td>26121</td>\n",
       "      <td>56.15%</td>\n",
       "    </tr>\n",
       "    <tr>\n",
       "      <th>F</th>\n",
       "      <td>20399</td>\n",
       "      <td>43.85%</td>\n",
       "    </tr>\n",
       "    <tr>\n",
       "      <th>Total</th>\n",
       "      <td>46520</td>\n",
       "      <td></td>\n",
       "    </tr>\n",
       "  </tbody>\n",
       "</table>\n",
       "</div>"
      ],
      "text/plain": [
       "       Count Percentage\n",
       "M      26121     56.15%\n",
       "F      20399     43.85%\n",
       "Total  46520           "
      ]
     },
     "execution_count": 74,
     "metadata": {},
     "output_type": "execute_result"
    }
   ],
   "source": [
    "value_counts_with_percentage(patients_df['GENDER'])"
   ]
  },
  {
   "cell_type": "code",
   "execution_count": 1,
   "metadata": {},
   "outputs": [],
   "source": [
    "#toDO count expire_flag"
   ]
  },
  {
   "cell_type": "markdown",
   "metadata": {},
   "source": [
    "### Admissions Table"
   ]
  },
  {
   "cell_type": "markdown",
   "metadata": {},
   "source": [
    "`row_id` : unique identifier for each row\n",
    "\n",
    "`subject_id` :  patient id\n",
    "\n",
    "`hadm_id` : unique identifier for each admission\n",
    "\n",
    "`admittime` : datetime for patient admission\n",
    "\n",
    "`dischtime` : datetime for patient discharge\n",
    "\n",
    "`deathtime` : datetime of patient death, if applicable\n",
    "\n",
    "`admission_type` : type of admission\n",
    "\n",
    "`admission_location` : location from which the patient was admitted\n",
    "\n",
    "`discharge_location` : location to which the patient was discharged\n",
    "\n",
    "`insurance` : primary insurance provider\n",
    "\n",
    "`language` : primary language of the patient\n",
    "\n",
    "`religion` : religion of the patient\n",
    "\n",
    "`marital_status` : marital status of the patient\n",
    "\n",
    "`ethnicity` : ethnicity of the patient\n",
    "\n",
    "`edregtime` : datetime of patient registration in the emergency department\n",
    "\n",
    "`edouttime` : datetime of patient discharge from the emergency department\n",
    "\n",
    "`diagnosis` : free-text field containing the diagnosis at the time of admission\n",
    "\n",
    "`hospital_expire_flag` : indicator of in-hospital mortality <br>\n",
    "1 if the patient died in the hospital during this admission <br>\n",
    "0 otherwise\n",
    "\n",
    "`has_chartevents_data` : indicator of whether there is data available in the chartevents table for this admission <br>\n",
    "1 if data is available <br>\n",
    "0 otherwise"
   ]
  },
  {
   "cell_type": "code",
   "execution_count": 76,
   "metadata": {},
   "outputs": [
    {
     "data": {
      "text/html": [
       "<div>\n",
       "<style scoped>\n",
       "    .dataframe tbody tr th:only-of-type {\n",
       "        vertical-align: middle;\n",
       "    }\n",
       "\n",
       "    .dataframe tbody tr th {\n",
       "        vertical-align: top;\n",
       "    }\n",
       "\n",
       "    .dataframe thead th {\n",
       "        text-align: right;\n",
       "    }\n",
       "</style>\n",
       "<table border=\"1\" class=\"dataframe\">\n",
       "  <thead>\n",
       "    <tr style=\"text-align: right;\">\n",
       "      <th></th>\n",
       "      <th>ROW_ID</th>\n",
       "      <th>SUBJECT_ID</th>\n",
       "      <th>HADM_ID</th>\n",
       "      <th>ADMITTIME</th>\n",
       "      <th>DISCHTIME</th>\n",
       "      <th>DEATHTIME</th>\n",
       "      <th>ADMISSION_TYPE</th>\n",
       "      <th>ADMISSION_LOCATION</th>\n",
       "      <th>DISCHARGE_LOCATION</th>\n",
       "      <th>INSURANCE</th>\n",
       "      <th>LANGUAGE</th>\n",
       "      <th>RELIGION</th>\n",
       "      <th>MARITAL_STATUS</th>\n",
       "      <th>ETHNICITY</th>\n",
       "      <th>EDREGTIME</th>\n",
       "      <th>EDOUTTIME</th>\n",
       "      <th>DIAGNOSIS</th>\n",
       "      <th>HOSPITAL_EXPIRE_FLAG</th>\n",
       "      <th>HAS_CHARTEVENTS_DATA</th>\n",
       "    </tr>\n",
       "  </thead>\n",
       "  <tbody>\n",
       "    <tr>\n",
       "      <th>0</th>\n",
       "      <td>21</td>\n",
       "      <td>22</td>\n",
       "      <td>165315</td>\n",
       "      <td>2196-04-09 12:26:00</td>\n",
       "      <td>2196-04-10 15:54:00</td>\n",
       "      <td>NaN</td>\n",
       "      <td>EMERGENCY</td>\n",
       "      <td>EMERGENCY ROOM ADMIT</td>\n",
       "      <td>DISC-TRAN CANCER/CHLDRN H</td>\n",
       "      <td>Private</td>\n",
       "      <td>NaN</td>\n",
       "      <td>UNOBTAINABLE</td>\n",
       "      <td>MARRIED</td>\n",
       "      <td>WHITE</td>\n",
       "      <td>2196-04-09 10:06:00</td>\n",
       "      <td>2196-04-09 13:24:00</td>\n",
       "      <td>BENZODIAZEPINE OVERDOSE</td>\n",
       "      <td>0</td>\n",
       "      <td>1</td>\n",
       "    </tr>\n",
       "    <tr>\n",
       "      <th>1</th>\n",
       "      <td>22</td>\n",
       "      <td>23</td>\n",
       "      <td>152223</td>\n",
       "      <td>2153-09-03 07:15:00</td>\n",
       "      <td>2153-09-08 19:10:00</td>\n",
       "      <td>NaN</td>\n",
       "      <td>ELECTIVE</td>\n",
       "      <td>PHYS REFERRAL/NORMAL DELI</td>\n",
       "      <td>HOME HEALTH CARE</td>\n",
       "      <td>Medicare</td>\n",
       "      <td>NaN</td>\n",
       "      <td>CATHOLIC</td>\n",
       "      <td>MARRIED</td>\n",
       "      <td>WHITE</td>\n",
       "      <td>NaN</td>\n",
       "      <td>NaN</td>\n",
       "      <td>CORONARY ARTERY DISEASE\\CORONARY ARTERY BYPASS...</td>\n",
       "      <td>0</td>\n",
       "      <td>1</td>\n",
       "    </tr>\n",
       "    <tr>\n",
       "      <th>2</th>\n",
       "      <td>23</td>\n",
       "      <td>23</td>\n",
       "      <td>124321</td>\n",
       "      <td>2157-10-18 19:34:00</td>\n",
       "      <td>2157-10-25 14:00:00</td>\n",
       "      <td>NaN</td>\n",
       "      <td>EMERGENCY</td>\n",
       "      <td>TRANSFER FROM HOSP/EXTRAM</td>\n",
       "      <td>HOME HEALTH CARE</td>\n",
       "      <td>Medicare</td>\n",
       "      <td>ENGL</td>\n",
       "      <td>CATHOLIC</td>\n",
       "      <td>MARRIED</td>\n",
       "      <td>WHITE</td>\n",
       "      <td>NaN</td>\n",
       "      <td>NaN</td>\n",
       "      <td>BRAIN MASS</td>\n",
       "      <td>0</td>\n",
       "      <td>1</td>\n",
       "    </tr>\n",
       "    <tr>\n",
       "      <th>3</th>\n",
       "      <td>24</td>\n",
       "      <td>24</td>\n",
       "      <td>161859</td>\n",
       "      <td>2139-06-06 16:14:00</td>\n",
       "      <td>2139-06-09 12:48:00</td>\n",
       "      <td>NaN</td>\n",
       "      <td>EMERGENCY</td>\n",
       "      <td>TRANSFER FROM HOSP/EXTRAM</td>\n",
       "      <td>HOME</td>\n",
       "      <td>Private</td>\n",
       "      <td>NaN</td>\n",
       "      <td>PROTESTANT QUAKER</td>\n",
       "      <td>SINGLE</td>\n",
       "      <td>WHITE</td>\n",
       "      <td>NaN</td>\n",
       "      <td>NaN</td>\n",
       "      <td>INTERIOR MYOCARDIAL INFARCTION</td>\n",
       "      <td>0</td>\n",
       "      <td>1</td>\n",
       "    </tr>\n",
       "    <tr>\n",
       "      <th>4</th>\n",
       "      <td>25</td>\n",
       "      <td>25</td>\n",
       "      <td>129635</td>\n",
       "      <td>2160-11-02 02:06:00</td>\n",
       "      <td>2160-11-05 14:55:00</td>\n",
       "      <td>NaN</td>\n",
       "      <td>EMERGENCY</td>\n",
       "      <td>EMERGENCY ROOM ADMIT</td>\n",
       "      <td>HOME</td>\n",
       "      <td>Private</td>\n",
       "      <td>NaN</td>\n",
       "      <td>UNOBTAINABLE</td>\n",
       "      <td>MARRIED</td>\n",
       "      <td>WHITE</td>\n",
       "      <td>2160-11-02 01:01:00</td>\n",
       "      <td>2160-11-02 04:27:00</td>\n",
       "      <td>ACUTE CORONARY SYNDROME</td>\n",
       "      <td>0</td>\n",
       "      <td>1</td>\n",
       "    </tr>\n",
       "  </tbody>\n",
       "</table>\n",
       "</div>"
      ],
      "text/plain": [
       "   ROW_ID  SUBJECT_ID  HADM_ID            ADMITTIME            DISCHTIME  \\\n",
       "0      21          22   165315  2196-04-09 12:26:00  2196-04-10 15:54:00   \n",
       "1      22          23   152223  2153-09-03 07:15:00  2153-09-08 19:10:00   \n",
       "2      23          23   124321  2157-10-18 19:34:00  2157-10-25 14:00:00   \n",
       "3      24          24   161859  2139-06-06 16:14:00  2139-06-09 12:48:00   \n",
       "4      25          25   129635  2160-11-02 02:06:00  2160-11-05 14:55:00   \n",
       "\n",
       "  DEATHTIME ADMISSION_TYPE         ADMISSION_LOCATION  \\\n",
       "0       NaN      EMERGENCY       EMERGENCY ROOM ADMIT   \n",
       "1       NaN       ELECTIVE  PHYS REFERRAL/NORMAL DELI   \n",
       "2       NaN      EMERGENCY  TRANSFER FROM HOSP/EXTRAM   \n",
       "3       NaN      EMERGENCY  TRANSFER FROM HOSP/EXTRAM   \n",
       "4       NaN      EMERGENCY       EMERGENCY ROOM ADMIT   \n",
       "\n",
       "          DISCHARGE_LOCATION INSURANCE LANGUAGE           RELIGION  \\\n",
       "0  DISC-TRAN CANCER/CHLDRN H   Private      NaN       UNOBTAINABLE   \n",
       "1           HOME HEALTH CARE  Medicare      NaN           CATHOLIC   \n",
       "2           HOME HEALTH CARE  Medicare     ENGL           CATHOLIC   \n",
       "3                       HOME   Private      NaN  PROTESTANT QUAKER   \n",
       "4                       HOME   Private      NaN       UNOBTAINABLE   \n",
       "\n",
       "  MARITAL_STATUS ETHNICITY            EDREGTIME            EDOUTTIME  \\\n",
       "0        MARRIED     WHITE  2196-04-09 10:06:00  2196-04-09 13:24:00   \n",
       "1        MARRIED     WHITE                  NaN                  NaN   \n",
       "2        MARRIED     WHITE                  NaN                  NaN   \n",
       "3         SINGLE     WHITE                  NaN                  NaN   \n",
       "4        MARRIED     WHITE  2160-11-02 01:01:00  2160-11-02 04:27:00   \n",
       "\n",
       "                                           DIAGNOSIS  HOSPITAL_EXPIRE_FLAG  \\\n",
       "0                            BENZODIAZEPINE OVERDOSE                     0   \n",
       "1  CORONARY ARTERY DISEASE\\CORONARY ARTERY BYPASS...                     0   \n",
       "2                                         BRAIN MASS                     0   \n",
       "3                     INTERIOR MYOCARDIAL INFARCTION                     0   \n",
       "4                            ACUTE CORONARY SYNDROME                     0   \n",
       "\n",
       "   HAS_CHARTEVENTS_DATA  \n",
       "0                     1  \n",
       "1                     1  \n",
       "2                     1  \n",
       "3                     1  \n",
       "4                     1  "
      ]
     },
     "execution_count": 76,
     "metadata": {},
     "output_type": "execute_result"
    }
   ],
   "source": [
    "admissions_df.head()"
   ]
  },
  {
   "cell_type": "code",
   "execution_count": 77,
   "metadata": {},
   "outputs": [
    {
     "name": "stdout",
     "output_type": "stream",
     "text": [
      "Number of unique admissions: 58976\n"
     ]
    }
   ],
   "source": [
    "print('Number of unique admissions:', len(admissions_df))"
   ]
  },
  {
   "cell_type": "code",
   "execution_count": 78,
   "metadata": {},
   "outputs": [
    {
     "data": {
      "text/html": [
       "<div>\n",
       "<style scoped>\n",
       "    .dataframe tbody tr th:only-of-type {\n",
       "        vertical-align: middle;\n",
       "    }\n",
       "\n",
       "    .dataframe tbody tr th {\n",
       "        vertical-align: top;\n",
       "    }\n",
       "\n",
       "    .dataframe thead th {\n",
       "        text-align: right;\n",
       "    }\n",
       "</style>\n",
       "<table border=\"1\" class=\"dataframe\">\n",
       "  <thead>\n",
       "    <tr style=\"text-align: right;\">\n",
       "      <th></th>\n",
       "      <th>Count</th>\n",
       "      <th>Percentage</th>\n",
       "    </tr>\n",
       "  </thead>\n",
       "  <tbody>\n",
       "    <tr>\n",
       "      <th>EMERGENCY</th>\n",
       "      <td>42071</td>\n",
       "      <td>71.34%</td>\n",
       "    </tr>\n",
       "    <tr>\n",
       "      <th>NEWBORN</th>\n",
       "      <td>7863</td>\n",
       "      <td>13.33%</td>\n",
       "    </tr>\n",
       "    <tr>\n",
       "      <th>ELECTIVE</th>\n",
       "      <td>7706</td>\n",
       "      <td>13.07%</td>\n",
       "    </tr>\n",
       "    <tr>\n",
       "      <th>URGENT</th>\n",
       "      <td>1336</td>\n",
       "      <td>2.27%</td>\n",
       "    </tr>\n",
       "    <tr>\n",
       "      <th>Total</th>\n",
       "      <td>58976</td>\n",
       "      <td></td>\n",
       "    </tr>\n",
       "  </tbody>\n",
       "</table>\n",
       "</div>"
      ],
      "text/plain": [
       "           Count Percentage\n",
       "EMERGENCY  42071     71.34%\n",
       "NEWBORN     7863     13.33%\n",
       "ELECTIVE    7706     13.07%\n",
       "URGENT      1336      2.27%\n",
       "Total      58976           "
      ]
     },
     "execution_count": 78,
     "metadata": {},
     "output_type": "execute_result"
    }
   ],
   "source": [
    "value_counts_with_percentage(admissions_df['ADMISSION_TYPE'])"
   ]
  },
  {
   "cell_type": "code",
   "execution_count": 79,
   "metadata": {},
   "outputs": [
    {
     "data": {
      "text/html": [
       "<div>\n",
       "<style scoped>\n",
       "    .dataframe tbody tr th:only-of-type {\n",
       "        vertical-align: middle;\n",
       "    }\n",
       "\n",
       "    .dataframe tbody tr th {\n",
       "        vertical-align: top;\n",
       "    }\n",
       "\n",
       "    .dataframe thead th {\n",
       "        text-align: right;\n",
       "    }\n",
       "</style>\n",
       "<table border=\"1\" class=\"dataframe\">\n",
       "  <thead>\n",
       "    <tr style=\"text-align: right;\">\n",
       "      <th></th>\n",
       "      <th>Count</th>\n",
       "      <th>Percentage</th>\n",
       "    </tr>\n",
       "  </thead>\n",
       "  <tbody>\n",
       "    <tr>\n",
       "      <th>EMERGENCY ROOM ADMIT</th>\n",
       "      <td>22754</td>\n",
       "      <td>38.58%</td>\n",
       "    </tr>\n",
       "    <tr>\n",
       "      <th>PHYS REFERRAL/NORMAL DELI</th>\n",
       "      <td>15079</td>\n",
       "      <td>25.57%</td>\n",
       "    </tr>\n",
       "    <tr>\n",
       "      <th>CLINIC REFERRAL/PREMATURE</th>\n",
       "      <td>12032</td>\n",
       "      <td>20.40%</td>\n",
       "    </tr>\n",
       "    <tr>\n",
       "      <th>TRANSFER FROM HOSP/EXTRAM</th>\n",
       "      <td>8456</td>\n",
       "      <td>14.34%</td>\n",
       "    </tr>\n",
       "    <tr>\n",
       "      <th>TRANSFER FROM SKILLED NUR</th>\n",
       "      <td>273</td>\n",
       "      <td>0.46%</td>\n",
       "    </tr>\n",
       "    <tr>\n",
       "      <th>** INFO NOT AVAILABLE **</th>\n",
       "      <td>204</td>\n",
       "      <td>0.35%</td>\n",
       "    </tr>\n",
       "    <tr>\n",
       "      <th>HMO REFERRAL/SICK</th>\n",
       "      <td>102</td>\n",
       "      <td>0.17%</td>\n",
       "    </tr>\n",
       "    <tr>\n",
       "      <th>TRANSFER FROM OTHER HEALT</th>\n",
       "      <td>71</td>\n",
       "      <td>0.12%</td>\n",
       "    </tr>\n",
       "    <tr>\n",
       "      <th>TRSF WITHIN THIS FACILITY</th>\n",
       "      <td>5</td>\n",
       "      <td>0.01%</td>\n",
       "    </tr>\n",
       "    <tr>\n",
       "      <th>Total</th>\n",
       "      <td>58976</td>\n",
       "      <td></td>\n",
       "    </tr>\n",
       "  </tbody>\n",
       "</table>\n",
       "</div>"
      ],
      "text/plain": [
       "                           Count Percentage\n",
       "EMERGENCY ROOM ADMIT       22754     38.58%\n",
       "PHYS REFERRAL/NORMAL DELI  15079     25.57%\n",
       "CLINIC REFERRAL/PREMATURE  12032     20.40%\n",
       "TRANSFER FROM HOSP/EXTRAM   8456     14.34%\n",
       "TRANSFER FROM SKILLED NUR    273      0.46%\n",
       "** INFO NOT AVAILABLE **     204      0.35%\n",
       "HMO REFERRAL/SICK            102      0.17%\n",
       "TRANSFER FROM OTHER HEALT     71      0.12%\n",
       "TRSF WITHIN THIS FACILITY      5      0.01%\n",
       "Total                      58976           "
      ]
     },
     "execution_count": 79,
     "metadata": {},
     "output_type": "execute_result"
    }
   ],
   "source": [
    "value_counts_with_percentage(admissions_df['ADMISSION_LOCATION'])"
   ]
  },
  {
   "cell_type": "markdown",
   "metadata": {},
   "source": [
    "Maybe we will exclude rows with admission type NEWBORN as it is not a disease and the MIMIC Dataset dont have pediatric data , it has only have newborns."
   ]
  },
  {
   "cell_type": "code",
   "execution_count": 80,
   "metadata": {},
   "outputs": [
    {
     "data": {
      "text/html": [
       "<div>\n",
       "<style scoped>\n",
       "    .dataframe tbody tr th:only-of-type {\n",
       "        vertical-align: middle;\n",
       "    }\n",
       "\n",
       "    .dataframe tbody tr th {\n",
       "        vertical-align: top;\n",
       "    }\n",
       "\n",
       "    .dataframe thead th {\n",
       "        text-align: right;\n",
       "    }\n",
       "</style>\n",
       "<table border=\"1\" class=\"dataframe\">\n",
       "  <thead>\n",
       "    <tr style=\"text-align: right;\">\n",
       "      <th></th>\n",
       "      <th>Count</th>\n",
       "      <th>Percentage</th>\n",
       "    </tr>\n",
       "  </thead>\n",
       "  <tbody>\n",
       "    <tr>\n",
       "      <th>Medicare</th>\n",
       "      <td>28215</td>\n",
       "      <td>47.84%</td>\n",
       "    </tr>\n",
       "    <tr>\n",
       "      <th>Private</th>\n",
       "      <td>22582</td>\n",
       "      <td>38.29%</td>\n",
       "    </tr>\n",
       "    <tr>\n",
       "      <th>Medicaid</th>\n",
       "      <td>5785</td>\n",
       "      <td>9.81%</td>\n",
       "    </tr>\n",
       "    <tr>\n",
       "      <th>Government</th>\n",
       "      <td>1783</td>\n",
       "      <td>3.02%</td>\n",
       "    </tr>\n",
       "    <tr>\n",
       "      <th>Self Pay</th>\n",
       "      <td>611</td>\n",
       "      <td>1.04%</td>\n",
       "    </tr>\n",
       "    <tr>\n",
       "      <th>Total</th>\n",
       "      <td>58976</td>\n",
       "      <td></td>\n",
       "    </tr>\n",
       "  </tbody>\n",
       "</table>\n",
       "</div>"
      ],
      "text/plain": [
       "            Count Percentage\n",
       "Medicare    28215     47.84%\n",
       "Private     22582     38.29%\n",
       "Medicaid     5785      9.81%\n",
       "Government   1783      3.02%\n",
       "Self Pay      611      1.04%\n",
       "Total       58976           "
      ]
     },
     "execution_count": 80,
     "metadata": {},
     "output_type": "execute_result"
    }
   ],
   "source": [
    "value_counts_with_percentage(admissions_df['INSURANCE'])"
   ]
  },
  {
   "cell_type": "code",
   "execution_count": 81,
   "metadata": {},
   "outputs": [
    {
     "data": {
      "text/html": [
       "<div>\n",
       "<style scoped>\n",
       "    .dataframe tbody tr th:only-of-type {\n",
       "        vertical-align: middle;\n",
       "    }\n",
       "\n",
       "    .dataframe tbody tr th {\n",
       "        vertical-align: top;\n",
       "    }\n",
       "\n",
       "    .dataframe thead th {\n",
       "        text-align: right;\n",
       "    }\n",
       "</style>\n",
       "<table border=\"1\" class=\"dataframe\">\n",
       "  <thead>\n",
       "    <tr style=\"text-align: right;\">\n",
       "      <th></th>\n",
       "      <th>Count</th>\n",
       "      <th>Percentage</th>\n",
       "    </tr>\n",
       "  </thead>\n",
       "  <tbody>\n",
       "    <tr>\n",
       "      <th>NA</th>\n",
       "      <td>10128</td>\n",
       "      <td>17.17%</td>\n",
       "    </tr>\n",
       "    <tr>\n",
       "      <th>MARRIED</th>\n",
       "      <td>24239</td>\n",
       "      <td>41.10%</td>\n",
       "    </tr>\n",
       "    <tr>\n",
       "      <th>SINGLE</th>\n",
       "      <td>13254</td>\n",
       "      <td>22.47%</td>\n",
       "    </tr>\n",
       "    <tr>\n",
       "      <th>WIDOWED</th>\n",
       "      <td>7211</td>\n",
       "      <td>12.23%</td>\n",
       "    </tr>\n",
       "    <tr>\n",
       "      <th>DIVORCED</th>\n",
       "      <td>3213</td>\n",
       "      <td>5.45%</td>\n",
       "    </tr>\n",
       "    <tr>\n",
       "      <th>SEPARATED</th>\n",
       "      <td>571</td>\n",
       "      <td>0.97%</td>\n",
       "    </tr>\n",
       "    <tr>\n",
       "      <th>UNKNOWN (DEFAULT)</th>\n",
       "      <td>345</td>\n",
       "      <td>0.58%</td>\n",
       "    </tr>\n",
       "    <tr>\n",
       "      <th>LIFE PARTNER</th>\n",
       "      <td>15</td>\n",
       "      <td>0.03%</td>\n",
       "    </tr>\n",
       "    <tr>\n",
       "      <th>Total</th>\n",
       "      <td>58976</td>\n",
       "      <td></td>\n",
       "    </tr>\n",
       "  </tbody>\n",
       "</table>\n",
       "</div>"
      ],
      "text/plain": [
       "                   Count Percentage\n",
       "NA                 10128     17.17%\n",
       "MARRIED            24239     41.10%\n",
       "SINGLE             13254     22.47%\n",
       "WIDOWED             7211     12.23%\n",
       "DIVORCED            3213      5.45%\n",
       "SEPARATED            571      0.97%\n",
       "UNKNOWN (DEFAULT)    345      0.58%\n",
       "LIFE PARTNER          15      0.03%\n",
       "Total              58976           "
      ]
     },
     "execution_count": 81,
     "metadata": {},
     "output_type": "execute_result"
    }
   ],
   "source": [
    "value_counts_with_percentage(admissions_df['MARITAL_STATUS'])"
   ]
  },
  {
   "cell_type": "code",
   "execution_count": 82,
   "metadata": {},
   "outputs": [
    {
     "data": {
      "text/html": [
       "<div>\n",
       "<style scoped>\n",
       "    .dataframe tbody tr th:only-of-type {\n",
       "        vertical-align: middle;\n",
       "    }\n",
       "\n",
       "    .dataframe tbody tr th {\n",
       "        vertical-align: top;\n",
       "    }\n",
       "\n",
       "    .dataframe thead th {\n",
       "        text-align: right;\n",
       "    }\n",
       "</style>\n",
       "<table border=\"1\" class=\"dataframe\">\n",
       "  <thead>\n",
       "    <tr style=\"text-align: right;\">\n",
       "      <th></th>\n",
       "      <th>Count</th>\n",
       "      <th>Percentage</th>\n",
       "    </tr>\n",
       "  </thead>\n",
       "  <tbody>\n",
       "    <tr>\n",
       "      <th>WHITE</th>\n",
       "      <td>40996</td>\n",
       "      <td>69.51%</td>\n",
       "    </tr>\n",
       "    <tr>\n",
       "      <th>BLACK/AFRICAN AMERICAN</th>\n",
       "      <td>5440</td>\n",
       "      <td>9.22%</td>\n",
       "    </tr>\n",
       "    <tr>\n",
       "      <th>UNKNOWN/NOT SPECIFIED</th>\n",
       "      <td>4523</td>\n",
       "      <td>7.67%</td>\n",
       "    </tr>\n",
       "    <tr>\n",
       "      <th>HISPANIC OR LATINO</th>\n",
       "      <td>1696</td>\n",
       "      <td>2.88%</td>\n",
       "    </tr>\n",
       "    <tr>\n",
       "      <th>OTHER</th>\n",
       "      <td>1512</td>\n",
       "      <td>2.56%</td>\n",
       "    </tr>\n",
       "    <tr>\n",
       "      <th>ASIAN</th>\n",
       "      <td>1509</td>\n",
       "      <td>2.56%</td>\n",
       "    </tr>\n",
       "    <tr>\n",
       "      <th>UNABLE TO OBTAIN</th>\n",
       "      <td>814</td>\n",
       "      <td>1.38%</td>\n",
       "    </tr>\n",
       "    <tr>\n",
       "      <th>PATIENT DECLINED TO ANSWER</th>\n",
       "      <td>559</td>\n",
       "      <td>0.95%</td>\n",
       "    </tr>\n",
       "    <tr>\n",
       "      <th>ASIAN - CHINESE</th>\n",
       "      <td>277</td>\n",
       "      <td>0.47%</td>\n",
       "    </tr>\n",
       "    <tr>\n",
       "      <th>HISPANIC/LATINO - PUERTO RICAN</th>\n",
       "      <td>232</td>\n",
       "      <td>0.39%</td>\n",
       "    </tr>\n",
       "  </tbody>\n",
       "</table>\n",
       "</div>"
      ],
      "text/plain": [
       "                                Count Percentage\n",
       "WHITE                           40996     69.51%\n",
       "BLACK/AFRICAN AMERICAN           5440      9.22%\n",
       "UNKNOWN/NOT SPECIFIED            4523      7.67%\n",
       "HISPANIC OR LATINO               1696      2.88%\n",
       "OTHER                            1512      2.56%\n",
       "ASIAN                            1509      2.56%\n",
       "UNABLE TO OBTAIN                  814      1.38%\n",
       "PATIENT DECLINED TO ANSWER        559      0.95%\n",
       "ASIAN - CHINESE                   277      0.47%\n",
       "HISPANIC/LATINO - PUERTO RICAN    232      0.39%"
      ]
     },
     "execution_count": 82,
     "metadata": {},
     "output_type": "execute_result"
    }
   ],
   "source": [
    "value_counts_with_percentage(admissions_df['ETHNICITY']).head(10)"
   ]
  },
  {
   "cell_type": "code",
   "execution_count": 83,
   "metadata": {},
   "outputs": [],
   "source": [
    "#toDO count deaths in hospital"
   ]
  },
  {
   "cell_type": "markdown",
   "metadata": {},
   "source": [
    "### ICD-9 Diagnosis Codes"
   ]
  },
  {
   "cell_type": "markdown",
   "metadata": {},
   "source": [
    "`row_id` : unique identifier for each row \n",
    "\n",
    "`subject_id` : unique identifier for patient\n",
    "\n",
    "`hadm_id` : unique identifier for hospital admission\n",
    "\n",
    "`seq_num` : indicating the order of diagnoses for a admission\n",
    "\n",
    "`icd9_code` : ICD-9 code for the diagnosis"
   ]
  },
  {
   "cell_type": "code",
   "execution_count": 84,
   "metadata": {},
   "outputs": [
    {
     "data": {
      "text/html": [
       "<div>\n",
       "<style scoped>\n",
       "    .dataframe tbody tr th:only-of-type {\n",
       "        vertical-align: middle;\n",
       "    }\n",
       "\n",
       "    .dataframe tbody tr th {\n",
       "        vertical-align: top;\n",
       "    }\n",
       "\n",
       "    .dataframe thead th {\n",
       "        text-align: right;\n",
       "    }\n",
       "</style>\n",
       "<table border=\"1\" class=\"dataframe\">\n",
       "  <thead>\n",
       "    <tr style=\"text-align: right;\">\n",
       "      <th></th>\n",
       "      <th>ROW_ID</th>\n",
       "      <th>SUBJECT_ID</th>\n",
       "      <th>HADM_ID</th>\n",
       "      <th>SEQ_NUM</th>\n",
       "      <th>ICD9_CODE</th>\n",
       "    </tr>\n",
       "  </thead>\n",
       "  <tbody>\n",
       "    <tr>\n",
       "      <th>0</th>\n",
       "      <td>1297</td>\n",
       "      <td>109</td>\n",
       "      <td>172335</td>\n",
       "      <td>1.0</td>\n",
       "      <td>40301</td>\n",
       "    </tr>\n",
       "    <tr>\n",
       "      <th>1</th>\n",
       "      <td>1298</td>\n",
       "      <td>109</td>\n",
       "      <td>172335</td>\n",
       "      <td>2.0</td>\n",
       "      <td>486</td>\n",
       "    </tr>\n",
       "    <tr>\n",
       "      <th>2</th>\n",
       "      <td>1299</td>\n",
       "      <td>109</td>\n",
       "      <td>172335</td>\n",
       "      <td>3.0</td>\n",
       "      <td>58281</td>\n",
       "    </tr>\n",
       "    <tr>\n",
       "      <th>3</th>\n",
       "      <td>1300</td>\n",
       "      <td>109</td>\n",
       "      <td>172335</td>\n",
       "      <td>4.0</td>\n",
       "      <td>5855</td>\n",
       "    </tr>\n",
       "    <tr>\n",
       "      <th>4</th>\n",
       "      <td>1301</td>\n",
       "      <td>109</td>\n",
       "      <td>172335</td>\n",
       "      <td>5.0</td>\n",
       "      <td>4254</td>\n",
       "    </tr>\n",
       "  </tbody>\n",
       "</table>\n",
       "</div>"
      ],
      "text/plain": [
       "   ROW_ID  SUBJECT_ID  HADM_ID  SEQ_NUM ICD9_CODE\n",
       "0    1297         109   172335      1.0     40301\n",
       "1    1298         109   172335      2.0       486\n",
       "2    1299         109   172335      3.0     58281\n",
       "3    1300         109   172335      4.0      5855\n",
       "4    1301         109   172335      5.0      4254"
      ]
     },
     "execution_count": 84,
     "metadata": {},
     "output_type": "execute_result"
    }
   ],
   "source": [
    "diagnoses_icd_df.head()"
   ]
  },
  {
   "cell_type": "code",
   "execution_count": 85,
   "metadata": {},
   "outputs": [
    {
     "name": "stdout",
     "output_type": "stream",
     "text": [
      "Number of unique ICD9_CODE: 6985\n"
     ]
    }
   ],
   "source": [
    "# unique ICD9_CODE\n",
    "print('Number of unique ICD9_CODE:', len(diagnoses_icd_df['ICD9_CODE'].unique()))"
   ]
  },
  {
   "cell_type": "code",
   "execution_count": 86,
   "metadata": {},
   "outputs": [
    {
     "data": {
      "image/png": "[encoded data removed]",
      "text/plain": [
       "<Figure size 640x480 with 1 Axes>"
      ]
     },
     "metadata": {},
     "output_type": "display_data"
    }
   ],
   "source": [
    "import seaborn as sns\n",
    "# seq_num describe grouped by subject_id and keeping the max value of seq_num\n",
    "# checking how many icd9_code on average the doctors are using\n",
    "x = diagnoses_icd_df.groupby('SUBJECT_ID')['SEQ_NUM'].max()\n",
    "sns.boxplot(x, orient='h')\n",
    "plt.title('Number of ICD9 Codes given on patients')\n",
    "plt.show()"
   ]
  },
  {
   "cell_type": "markdown",
   "metadata": {},
   "source": [
    "seems the most usual number of ICD9 codes given in the hospital are arround 5-15 with most of them around 10"
   ]
  },
  {
   "cell_type": "code",
   "execution_count": 87,
   "metadata": {},
   "outputs": [
    {
     "data": {
      "text/plain": [
       "ICD9_CODE  SHORT_TITLE             \n",
       "4019       Hypertension NOS            20703\n",
       "4280       CHF NOS                     13111\n",
       "42731      Atrial fibrillation         12891\n",
       "41401      Crnry athrscl natve vssl    12429\n",
       "5849       Acute kidney failure NOS     9119\n",
       "25000      DMII wo cmp nt st uncntr     9058\n",
       "2724       Hyperlipidemia NEC/NOS       8690\n",
       "51881      Acute respiratry failure     7497\n",
       "5990       Urin tract infection NOS     6555\n",
       "53081      Esophageal reflux            6326\n",
       "Name: SUBJECT_ID, dtype: int64"
      ]
     },
     "execution_count": 87,
     "metadata": {},
     "output_type": "execute_result"
    }
   ],
   "source": [
    "diagnoses_icd_df.merge(d_icd_diagnoses_df, on='ICD9_CODE').groupby(['ICD9_CODE','SHORT_TITLE'])['SUBJECT_ID'].count().sort_values(ascending=False).head(10)\n",
    "#QA In aritcle"
   ]
  },
  {
   "cell_type": "markdown",
   "metadata": {},
   "source": [
    "Zhao, B., Huepenbecker, S., Zhu, G., Rajan, S. S., Fujimoto, K., & Luo, X. (2023). Comorbidity network analysis using graphical models for electronic health records. Frontiers in Big Data, 6. https://doi.org/10.3389/fdata.2023.846202\n",
    "\n",
    ">QA: In this article they have removed the most infrequent cases. Are we going to do the same ?"
   ]
  },
  {
   "cell_type": "markdown",
   "metadata": {},
   "source": [
    " The format for ICD-9 diagnoses codes is a decimal placed after the first three characters and two possible add-on characters following: xxx.xx\n",
    "\n",
    "Except those which they start with letter 'E'. These codes are in the format Exxx.x\n",
    "\n",
    "In the Data preparation section we will add '.' to the ICD-9 codes. The main reason is that we want to have the option to run the model with the first 3 characters of the ICD-9 codes and be able to use subcategories for these.\n",
    "\n",
    ">QA: Are we going to use the subcategories for the ICD-9 codes? Where to find them? In the above article they also used subcategories of 3-digit ICD9 for the CNA"
   ]
  },
  {
   "cell_type": "code",
   "execution_count": 88,
   "metadata": {},
   "outputs": [
    {
     "data": {
      "text/plain": [
       "True"
      ]
     },
     "execution_count": 88,
     "metadata": {},
     "output_type": "execute_result"
    }
   ],
   "source": [
    "# Checking if ICD9_CODE is unique\n",
    "d_icd_diagnoses_df['ICD9_CODE'].is_unique"
   ]
  },
  {
   "cell_type": "code",
   "execution_count": 89,
   "metadata": {},
   "outputs": [
    {
     "name": "stdout",
     "output_type": "stream",
     "text": [
      "Number of unique ICD9 codes: 14567\n"
     ]
    }
   ],
   "source": [
    "print('Number of unique ICD9 codes:', len(d_icd_diagnoses_df))"
   ]
  },
  {
   "cell_type": "code",
   "execution_count": 90,
   "metadata": {},
   "outputs": [
    {
     "data": {
      "text/plain": [
       "1042"
      ]
     },
     "execution_count": 90,
     "metadata": {},
     "output_type": "execute_result"
    }
   ],
   "source": [
    "#filter rows that the ICD9_CODE is 3 digit \n",
    "d_icd_diagnoses_df['ICD9_CODE'].str[:3].unique().__len__()"
   ]
  },
  {
   "cell_type": "markdown",
   "metadata": {},
   "source": [
    "### More Complex Queries"
   ]
  },
  {
   "cell_type": "markdown",
   "metadata": {},
   "source": [
    "let's join Patients and Admissions , in order to take the ages of the patients"
   ]
  },
  {
   "cell_type": "code",
   "execution_count": 91,
   "metadata": {},
   "outputs": [],
   "source": [
    "df_merge_patients_admission = pd.merge(patients_df, admissions_df, on='SUBJECT_ID', how='inner')"
   ]
  },
  {
   "cell_type": "code",
   "execution_count": 92,
   "metadata": {},
   "outputs": [
    {
     "data": {
      "text/plain": [
       "<Axes: title={'center': 'Number of admissions per patient'}, xlabel='count', ylabel='Count'>"
      ]
     },
     "execution_count": 92,
     "metadata": {},
     "output_type": "execute_result"
    },
    {
     "data": {
      "image/png": "[encoded data removed]",
      "text/plain": [
       "<Figure size 640x480 with 1 Axes>"
      ]
     },
     "metadata": {},
     "output_type": "display_data"
    }
   ],
   "source": [
    "#count admissions per patient\n",
    "plt.title('Number of admissions per patient')\n",
    "sns.histplot(df_merge_patients_admission['SUBJECT_ID'].value_counts(), bins=range(1, 10))"
   ]
  },
  {
   "cell_type": "markdown",
   "metadata": {},
   "source": [
    "seems that most patients have only one admission and the number of patients with more than one admission decreases exponentially"
   ]
  },
  {
   "cell_type": "code",
   "execution_count": 93,
   "metadata": {},
   "outputs": [],
   "source": [
    "#age of patients\n",
    "# calculating age, because MIMIC-3 Dataset swiufted the age of birth. We are going to do DOB - ADMITTIME to calculate the age\n",
    "df_merge_patients_admission['AGE'] = (pd.to_datetime(df_merge_patients_admission['ADMITTIME']).dt.date - pd.to_datetime(df_merge_patients_admission['DOB']).dt.date).apply(lambda x: x.days)//365"
   ]
  },
  {
   "cell_type": "code",
   "execution_count": 94,
   "metadata": {},
   "outputs": [
    {
     "data": {
      "text/plain": [
       "<Axes: xlabel='AGE', ylabel='Count'>"
      ]
     },
     "execution_count": 94,
     "metadata": {},
     "output_type": "execute_result"
    },
    {
     "data": {
      "image/png": "[encoded data removed]",
      "text/plain": [
       "<Figure size 640x480 with 1 Axes>"
      ]
     },
     "metadata": {},
     "output_type": "display_data"
    }
   ],
   "source": [
    "#that's not correct because the patient can have more than one admission, so we take some diffent age from the same patient\n",
    "#but we just want to know about outliers and the data we have for now.\n",
    "#we will decide later what we will do with the many admission for each patient. Maybe we wil keep the last one\n",
    "sns.histplot(df_merge_patients_admission['AGE'], bins=range(0, 310, 5))"
   ]
  },
  {
   "cell_type": "code",
   "execution_count": 95,
   "metadata": {},
   "outputs": [
    {
     "data": {
      "text/plain": [
       "AGE_GROUP\n",
       "61-89     27731\n",
       "40-60     15368\n",
       "0          8110\n",
       "18-39      5051\n",
       "300        2245\n",
       "1-17        100\n",
       "90-299        0\n",
       "Name: count, dtype: int64"
      ]
     },
     "execution_count": 95,
     "metadata": {},
     "output_type": "execute_result"
    }
   ],
   "source": [
    "#make 7 groups of age, age 0, 1-17, 18-39, 40-60, 61-89, 90-299, 300\n",
    "bins = [-0.1, 1, 17, 39, 60, 89, 299, 300]\n",
    "labels = ['0', '1-17', '18-39', '40-60', '61-89', '90-299', '300']\n",
    "\n",
    "df_merge_patients_admission['AGE_GROUP'] = pd.cut(df_merge_patients_admission['AGE'], bins=bins, labels=labels)\n",
    "df_merge_patients_admission['AGE_GROUP'].value_counts()"
   ]
  },
  {
   "cell_type": "markdown",
   "metadata": {},
   "source": [
    "Summary of data exploration:\n",
    "\n",
    "- We have 46520 patients and 58976 admissions\n",
    "- The average age of the patients is 65 years old without filtering the newborns, ages that are 300 and the last encounter for each patient\n",
    "- The most patients have 1 admission and the number of patients with more than one admission decreases exponentially\n",
    "- The most usual number of ICD9 codes given in the hospital are arround 5-15 with most of them around 10\n",
    "- ICD9 codes are in the format xxxxx and Exxxx, we need to manipulate them to have the format xxx.xx and Exxx.x\n",
    "- We have 6984 unique ICD9 codes in admissions  "
   ]
  },
  {
   "cell_type": "markdown",
   "metadata": {},
   "source": [
    "## Webscrapping ICD-9 Codes Subcategories "
   ]
  },
  {
   "cell_type": "markdown",
   "metadata": {},
   "source": [
    "in the article they used the subcategories of the ICD-9 codes, we need to find them and add them to our dataset.\n",
    "\n",
    "We are going to use the following website to get the subcategories of the ICD-9 codes: https://www.icd9data.com/\n",
    "and make a web scrapper in order to get them. You can find the code in the file `icd9_scrapper.py`"
   ]
  },
  {
   "cell_type": "code",
   "execution_count": 96,
   "metadata": {},
   "outputs": [],
   "source": [
    "dtype_dict = {\n",
    "    'level1_code': str,\n",
    "    'level1_description': str,\n",
    "    'level2_code': str,\n",
    "    'level2_description': str,\n",
    "    'level3_code': str,\n",
    "    'level3_description': str,\n",
    "    'level4_code': str,\n",
    "    'level4_description': str,\n",
    "    'level5_code': str,\n",
    "    'level5_description': str\n",
    "}\n",
    "icd9_imported_categories = pd.read_csv('icd9-categories.csv', dtype=dtype_dict)"
   ]
  },
  {
   "cell_type": "code",
   "execution_count": 97,
   "metadata": {},
   "outputs": [
    {
     "data": {
      "text/plain": [
       "16456"
      ]
     },
     "execution_count": 97,
     "metadata": {},
     "output_type": "execute_result"
    }
   ],
   "source": [
    "len(icd9_imported_categories)"
   ]
  },
  {
   "cell_type": "code",
   "execution_count": 98,
   "metadata": {},
   "outputs": [
    {
     "data": {
      "text/plain": [
       "level1_code\n",
       "001-139      1405\n",
       "140-239      1069\n",
       "240-279       383\n",
       "280-289       138\n",
       "290-319       559\n",
       "320-389      1649\n",
       "390-459       556\n",
       "460-519       287\n",
       "520-579       712\n",
       "580-629       429\n",
       "630-679      1407\n",
       "680-709       223\n",
       "710-739       997\n",
       "740-759       480\n",
       "760-779       303\n",
       "780-799       424\n",
       "800-999      2876\n",
       "E000-E999    1291\n",
       "V01-V91      1268\n",
       "Name: count, dtype: int64"
      ]
     },
     "execution_count": 98,
     "metadata": {},
     "output_type": "execute_result"
    }
   ],
   "source": [
    "icd9_imported_categories['level1_code'].value_counts().sort_index()"
   ]
  },
  {
   "cell_type": "code",
   "execution_count": 99,
   "metadata": {},
   "outputs": [
    {
     "data": {
      "text/plain": [
       "156"
      ]
     },
     "execution_count": 99,
     "metadata": {},
     "output_type": "execute_result"
    }
   ],
   "source": [
    "icd9_imported_categories['level2_code'].unique().__len__()"
   ]
  },
  {
   "cell_type": "code",
   "execution_count": 100,
   "metadata": {},
   "outputs": [
    {
     "data": {
      "text/plain": [
       "1234"
      ]
     },
     "execution_count": 100,
     "metadata": {},
     "output_type": "execute_result"
    }
   ],
   "source": [
    "icd9_imported_categories['level3_code'].unique().__len__()"
   ]
  },
  {
   "cell_type": "code",
   "execution_count": 101,
   "metadata": {},
   "outputs": [
    {
     "data": {
      "text/plain": [
       "7988"
      ]
     },
     "execution_count": 101,
     "metadata": {},
     "output_type": "execute_result"
    }
   ],
   "source": [
    "icd9_imported_categories['level4_code'].unique().__len__()"
   ]
  },
  {
   "cell_type": "code",
   "execution_count": 102,
   "metadata": {},
   "outputs": [
    {
     "data": {
      "text/plain": [
       "16456"
      ]
     },
     "execution_count": 102,
     "metadata": {},
     "output_type": "execute_result"
    }
   ],
   "source": [
    "icd9_imported_categories['level5_code'].unique().__len__()"
   ]
  },
  {
   "cell_type": "markdown",
   "metadata": {},
   "source": [
    "## Data Preparation"
   ]
  },
  {
   "cell_type": "markdown",
   "metadata": {},
   "source": [
    "We are going to do the following:\n",
    "1) Merge admissions and patients tables and keep only the last encounter in the hospital for each patient (the same as the article)\n",
    "2) Filter out the newborns because they are not diseases\n",
    "3) Add '.' to the ICD-9 codes and find a way to add subcategories, we need to find an external source for this\n",
    "4) Exploration of data after the changes\n",
    "5) Finally make tables Sparse Matrix tables, that columns will have the ICD-9 codes and the rows the last admission for each patient we kept in the dataset\n",
    "\n",
    ">QA In the article they filter out most uncommon diseases, wanna do the same ?"
   ]
  },
  {
   "cell_type": "markdown",
   "metadata": {},
   "source": [
    "### Keep Last Encounter for Each Patient"
   ]
  },
  {
   "cell_type": "code",
   "execution_count": 103,
   "metadata": {},
   "outputs": [],
   "source": [
    "#we have already merged patients and admissions\n",
    "#now we are going to keep the last admission of each patient\n",
    "df_merge_patients_admission.sort_values(['SUBJECT_ID','ADMITTIME'], ascending=False, inplace=True)"
   ]
  },
  {
   "cell_type": "code",
   "execution_count": 104,
   "metadata": {},
   "outputs": [
    {
     "data": {
      "text/html": [
       "<div>\n",
       "<style scoped>\n",
       "    .dataframe tbody tr th:only-of-type {\n",
       "        vertical-align: middle;\n",
       "    }\n",
       "\n",
       "    .dataframe tbody tr th {\n",
       "        vertical-align: top;\n",
       "    }\n",
       "\n",
       "    .dataframe thead th {\n",
       "        text-align: right;\n",
       "    }\n",
       "</style>\n",
       "<table border=\"1\" class=\"dataframe\">\n",
       "  <thead>\n",
       "    <tr style=\"text-align: right;\">\n",
       "      <th></th>\n",
       "      <th>SUBJECT_ID</th>\n",
       "      <th>ADMITTIME</th>\n",
       "    </tr>\n",
       "  </thead>\n",
       "  <tbody>\n",
       "    <tr>\n",
       "      <th>52352</th>\n",
       "      <td>99982</td>\n",
       "      <td>2157-02-16 17:31:00</td>\n",
       "    </tr>\n",
       "    <tr>\n",
       "      <th>52351</th>\n",
       "      <td>99982</td>\n",
       "      <td>2157-01-05 17:27:00</td>\n",
       "    </tr>\n",
       "    <tr>\n",
       "      <th>52350</th>\n",
       "      <td>99982</td>\n",
       "      <td>2156-11-28 11:56:00</td>\n",
       "    </tr>\n",
       "    <tr>\n",
       "      <th>51527</th>\n",
       "      <td>99923</td>\n",
       "      <td>2201-05-15 13:12:00</td>\n",
       "    </tr>\n",
       "    <tr>\n",
       "      <th>51526</th>\n",
       "      <td>99923</td>\n",
       "      <td>2201-02-23 20:42:00</td>\n",
       "    </tr>\n",
       "    <tr>\n",
       "      <th>51519</th>\n",
       "      <td>99897</td>\n",
       "      <td>2182-07-03 19:50:00</td>\n",
       "    </tr>\n",
       "    <tr>\n",
       "      <th>51518</th>\n",
       "      <td>99897</td>\n",
       "      <td>2181-08-06 02:22:00</td>\n",
       "    </tr>\n",
       "    <tr>\n",
       "      <th>51515</th>\n",
       "      <td>99883</td>\n",
       "      <td>2132-09-15 00:36:00</td>\n",
       "    </tr>\n",
       "    <tr>\n",
       "      <th>51514</th>\n",
       "      <td>99883</td>\n",
       "      <td>2131-12-24 17:41:00</td>\n",
       "    </tr>\n",
       "    <tr>\n",
       "      <th>50734</th>\n",
       "      <td>99822</td>\n",
       "      <td>2197-07-03 02:24:00</td>\n",
       "    </tr>\n",
       "  </tbody>\n",
       "</table>\n",
       "</div>"
      ],
      "text/plain": [
       "       SUBJECT_ID            ADMITTIME\n",
       "52352       99982  2157-02-16 17:31:00\n",
       "52351       99982  2157-01-05 17:27:00\n",
       "52350       99982  2156-11-28 11:56:00\n",
       "51527       99923  2201-05-15 13:12:00\n",
       "51526       99923  2201-02-23 20:42:00\n",
       "51519       99897  2182-07-03 19:50:00\n",
       "51518       99897  2181-08-06 02:22:00\n",
       "51515       99883  2132-09-15 00:36:00\n",
       "51514       99883  2131-12-24 17:41:00\n",
       "50734       99822  2197-07-03 02:24:00"
      ]
     },
     "execution_count": 104,
     "metadata": {},
     "output_type": "execute_result"
    }
   ],
   "source": [
    "#checking sorting if it's correct\n",
    "#reminding that subject_id is the unique identifier of the patient\n",
    "#also admittime is the time that the patient was admitted to the hospital\n",
    "df_merge_patients_admission.loc[df_merge_patients_admission.duplicated('SUBJECT_ID', keep=False), ['SUBJECT_ID', 'ADMITTIME']].head(10)"
   ]
  },
  {
   "cell_type": "code",
   "execution_count": 105,
   "metadata": {},
   "outputs": [],
   "source": [
    "df_last_admission = df_merge_patients_admission.drop_duplicates('SUBJECT_ID', keep='first')"
   ]
  },
  {
   "cell_type": "code",
   "execution_count": 106,
   "metadata": {},
   "outputs": [
    {
     "data": {
      "text/plain": [
       "46520"
      ]
     },
     "execution_count": 106,
     "metadata": {},
     "output_type": "execute_result"
    }
   ],
   "source": [
    "#if len of df_last_admission is equal to the number of unique patients, we have done it correctly\n",
    "len(df_last_admission)"
   ]
  },
  {
   "cell_type": "markdown",
   "metadata": {},
   "source": [
    "### Filter Out Newborns"
   ]
  },
  {
   "cell_type": "code",
   "execution_count": 107,
   "metadata": {},
   "outputs": [
    {
     "data": {
      "text/html": [
       "<div>\n",
       "<style scoped>\n",
       "    .dataframe tbody tr th:only-of-type {\n",
       "        vertical-align: middle;\n",
       "    }\n",
       "\n",
       "    .dataframe tbody tr th {\n",
       "        vertical-align: top;\n",
       "    }\n",
       "\n",
       "    .dataframe thead th {\n",
       "        text-align: right;\n",
       "    }\n",
       "</style>\n",
       "<table border=\"1\" class=\"dataframe\">\n",
       "  <thead>\n",
       "    <tr style=\"text-align: right;\">\n",
       "      <th></th>\n",
       "      <th>ROW_ID_x</th>\n",
       "      <th>SUBJECT_ID</th>\n",
       "      <th>GENDER</th>\n",
       "      <th>DOB</th>\n",
       "      <th>DOD</th>\n",
       "      <th>DOD_HOSP</th>\n",
       "      <th>DOD_SSN</th>\n",
       "      <th>EXPIRE_FLAG</th>\n",
       "      <th>ROW_ID_y</th>\n",
       "      <th>HADM_ID</th>\n",
       "      <th>...</th>\n",
       "      <th>RELIGION</th>\n",
       "      <th>MARITAL_STATUS</th>\n",
       "      <th>ETHNICITY</th>\n",
       "      <th>EDREGTIME</th>\n",
       "      <th>EDOUTTIME</th>\n",
       "      <th>DIAGNOSIS</th>\n",
       "      <th>HOSPITAL_EXPIRE_FLAG</th>\n",
       "      <th>HAS_CHARTEVENTS_DATA</th>\n",
       "      <th>AGE</th>\n",
       "      <th>AGE_GROUP</th>\n",
       "    </tr>\n",
       "  </thead>\n",
       "  <tbody>\n",
       "    <tr>\n",
       "      <th>52358</th>\n",
       "      <td>46520</td>\n",
       "      <td>99999</td>\n",
       "      <td>F</td>\n",
       "      <td>2054-01-06 00:00:00</td>\n",
       "      <td>NaN</td>\n",
       "      <td>NaN</td>\n",
       "      <td>NaN</td>\n",
       "      <td>0</td>\n",
       "      <td>58976</td>\n",
       "      <td>113369</td>\n",
       "      <td>...</td>\n",
       "      <td>JEHOVAH'S WITNESS</td>\n",
       "      <td>SEPARATED</td>\n",
       "      <td>HISPANIC OR LATINO</td>\n",
       "      <td>NaN</td>\n",
       "      <td>NaN</td>\n",
       "      <td>SPONDYLOLISTHESIS/SDA</td>\n",
       "      <td>0</td>\n",
       "      <td>1</td>\n",
       "      <td>64</td>\n",
       "      <td>61-89</td>\n",
       "    </tr>\n",
       "    <tr>\n",
       "      <th>52357</th>\n",
       "      <td>46519</td>\n",
       "      <td>99995</td>\n",
       "      <td>F</td>\n",
       "      <td>2058-05-29 00:00:00</td>\n",
       "      <td>2147-09-29 00:00:00</td>\n",
       "      <td>NaN</td>\n",
       "      <td>2147-09-29 00:00:00</td>\n",
       "      <td>1</td>\n",
       "      <td>58975</td>\n",
       "      <td>137810</td>\n",
       "      <td>...</td>\n",
       "      <td>NOT SPECIFIED</td>\n",
       "      <td>MARRIED</td>\n",
       "      <td>WHITE</td>\n",
       "      <td>NaN</td>\n",
       "      <td>NaN</td>\n",
       "      <td>ABDOMINAL AORTIC ANEURYSM/SDA</td>\n",
       "      <td>0</td>\n",
       "      <td>1</td>\n",
       "      <td>88</td>\n",
       "      <td>61-89</td>\n",
       "    </tr>\n",
       "    <tr>\n",
       "      <th>52356</th>\n",
       "      <td>46518</td>\n",
       "      <td>99992</td>\n",
       "      <td>F</td>\n",
       "      <td>2078-10-17 00:00:00</td>\n",
       "      <td>NaN</td>\n",
       "      <td>NaN</td>\n",
       "      <td>NaN</td>\n",
       "      <td>0</td>\n",
       "      <td>58974</td>\n",
       "      <td>197084</td>\n",
       "      <td>...</td>\n",
       "      <td>CATHOLIC</td>\n",
       "      <td>WIDOWED</td>\n",
       "      <td>WHITE</td>\n",
       "      <td>2144-07-25 13:40:00</td>\n",
       "      <td>2144-07-25 18:50:00</td>\n",
       "      <td>RETROPERITONEAL HEMORRHAGE</td>\n",
       "      <td>0</td>\n",
       "      <td>1</td>\n",
       "      <td>65</td>\n",
       "      <td>61-89</td>\n",
       "    </tr>\n",
       "    <tr>\n",
       "      <th>52355</th>\n",
       "      <td>46517</td>\n",
       "      <td>99991</td>\n",
       "      <td>M</td>\n",
       "      <td>2137-04-07 00:00:00</td>\n",
       "      <td>NaN</td>\n",
       "      <td>NaN</td>\n",
       "      <td>NaN</td>\n",
       "      <td>0</td>\n",
       "      <td>58973</td>\n",
       "      <td>151118</td>\n",
       "      <td>...</td>\n",
       "      <td>NOT SPECIFIED</td>\n",
       "      <td>MARRIED</td>\n",
       "      <td>WHITE</td>\n",
       "      <td>NaN</td>\n",
       "      <td>NaN</td>\n",
       "      <td>DIVERTICULITIS/SDA</td>\n",
       "      <td>0</td>\n",
       "      <td>1</td>\n",
       "      <td>47</td>\n",
       "      <td>40-60</td>\n",
       "    </tr>\n",
       "    <tr>\n",
       "      <th>52354</th>\n",
       "      <td>46516</td>\n",
       "      <td>99985</td>\n",
       "      <td>M</td>\n",
       "      <td>2127-04-08 00:00:00</td>\n",
       "      <td>NaN</td>\n",
       "      <td>NaN</td>\n",
       "      <td>NaN</td>\n",
       "      <td>0</td>\n",
       "      <td>58972</td>\n",
       "      <td>176670</td>\n",
       "      <td>...</td>\n",
       "      <td>JEWISH</td>\n",
       "      <td>MARRIED</td>\n",
       "      <td>WHITE</td>\n",
       "      <td>2181-01-26 23:35:00</td>\n",
       "      <td>2181-01-27 04:18:00</td>\n",
       "      <td>FEVER</td>\n",
       "      <td>0</td>\n",
       "      <td>1</td>\n",
       "      <td>53</td>\n",
       "      <td>40-60</td>\n",
       "    </tr>\n",
       "    <tr>\n",
       "      <th>...</th>\n",
       "      <td>...</td>\n",
       "      <td>...</td>\n",
       "      <td>...</td>\n",
       "      <td>...</td>\n",
       "      <td>...</td>\n",
       "      <td>...</td>\n",
       "      <td>...</td>\n",
       "      <td>...</td>\n",
       "      <td>...</td>\n",
       "      <td>...</td>\n",
       "      <td>...</td>\n",
       "      <td>...</td>\n",
       "      <td>...</td>\n",
       "      <td>...</td>\n",
       "      <td>...</td>\n",
       "      <td>...</td>\n",
       "      <td>...</td>\n",
       "      <td>...</td>\n",
       "      <td>...</td>\n",
       "      <td>...</td>\n",
       "      <td>...</td>\n",
       "    </tr>\n",
       "    <tr>\n",
       "      <th>307</th>\n",
       "      <td>10</td>\n",
       "      <td>11</td>\n",
       "      <td>F</td>\n",
       "      <td>2128-02-22 00:00:00</td>\n",
       "      <td>2178-11-14 00:00:00</td>\n",
       "      <td>NaN</td>\n",
       "      <td>2178-11-14 00:00:00</td>\n",
       "      <td>1</td>\n",
       "      <td>10</td>\n",
       "      <td>194540</td>\n",
       "      <td>...</td>\n",
       "      <td>OTHER</td>\n",
       "      <td>MARRIED</td>\n",
       "      <td>WHITE</td>\n",
       "      <td>2178-04-15 20:46:00</td>\n",
       "      <td>2178-04-16 06:53:00</td>\n",
       "      <td>BRAIN MASS</td>\n",
       "      <td>0</td>\n",
       "      <td>1</td>\n",
       "      <td>50</td>\n",
       "      <td>40-60</td>\n",
       "    </tr>\n",
       "    <tr>\n",
       "      <th>305</th>\n",
       "      <td>8</td>\n",
       "      <td>9</td>\n",
       "      <td>M</td>\n",
       "      <td>2108-01-26 00:00:00</td>\n",
       "      <td>2149-11-14 00:00:00</td>\n",
       "      <td>2149-11-14 00:00:00</td>\n",
       "      <td>2149-11-14 00:00:00</td>\n",
       "      <td>1</td>\n",
       "      <td>8</td>\n",
       "      <td>150750</td>\n",
       "      <td>...</td>\n",
       "      <td>UNOBTAINABLE</td>\n",
       "      <td>NaN</td>\n",
       "      <td>UNKNOWN/NOT SPECIFIED</td>\n",
       "      <td>2149-11-09 11:13:00</td>\n",
       "      <td>2149-11-09 13:18:00</td>\n",
       "      <td>HEMORRHAGIC CVA</td>\n",
       "      <td>1</td>\n",
       "      <td>1</td>\n",
       "      <td>41</td>\n",
       "      <td>40-60</td>\n",
       "    </tr>\n",
       "    <tr>\n",
       "      <th>302</th>\n",
       "      <td>5</td>\n",
       "      <td>6</td>\n",
       "      <td>F</td>\n",
       "      <td>2109-06-21 00:00:00</td>\n",
       "      <td>NaN</td>\n",
       "      <td>NaN</td>\n",
       "      <td>NaN</td>\n",
       "      <td>0</td>\n",
       "      <td>5</td>\n",
       "      <td>107064</td>\n",
       "      <td>...</td>\n",
       "      <td>NOT SPECIFIED</td>\n",
       "      <td>MARRIED</td>\n",
       "      <td>WHITE</td>\n",
       "      <td>NaN</td>\n",
       "      <td>NaN</td>\n",
       "      <td>CHRONIC RENAL FAILURE/SDA</td>\n",
       "      <td>0</td>\n",
       "      <td>1</td>\n",
       "      <td>65</td>\n",
       "      <td>61-89</td>\n",
       "    </tr>\n",
       "    <tr>\n",
       "      <th>300</th>\n",
       "      <td>3</td>\n",
       "      <td>4</td>\n",
       "      <td>F</td>\n",
       "      <td>2143-05-12 00:00:00</td>\n",
       "      <td>NaN</td>\n",
       "      <td>NaN</td>\n",
       "      <td>NaN</td>\n",
       "      <td>0</td>\n",
       "      <td>3</td>\n",
       "      <td>185777</td>\n",
       "      <td>...</td>\n",
       "      <td>PROTESTANT QUAKER</td>\n",
       "      <td>SINGLE</td>\n",
       "      <td>WHITE</td>\n",
       "      <td>2191-03-15 13:10:00</td>\n",
       "      <td>2191-03-16 01:10:00</td>\n",
       "      <td>FEVER,DEHYDRATION,FAILURE TO THRIVE</td>\n",
       "      <td>0</td>\n",
       "      <td>1</td>\n",
       "      <td>47</td>\n",
       "      <td>40-60</td>\n",
       "    </tr>\n",
       "    <tr>\n",
       "      <th>299</th>\n",
       "      <td>2</td>\n",
       "      <td>3</td>\n",
       "      <td>M</td>\n",
       "      <td>2025-04-11 00:00:00</td>\n",
       "      <td>2102-06-14 00:00:00</td>\n",
       "      <td>NaN</td>\n",
       "      <td>2102-06-14 00:00:00</td>\n",
       "      <td>1</td>\n",
       "      <td>2</td>\n",
       "      <td>145834</td>\n",
       "      <td>...</td>\n",
       "      <td>CATHOLIC</td>\n",
       "      <td>MARRIED</td>\n",
       "      <td>WHITE</td>\n",
       "      <td>2101-10-20 17:09:00</td>\n",
       "      <td>2101-10-20 19:24:00</td>\n",
       "      <td>HYPOTENSION</td>\n",
       "      <td>0</td>\n",
       "      <td>1</td>\n",
       "      <td>76</td>\n",
       "      <td>61-89</td>\n",
       "    </tr>\n",
       "  </tbody>\n",
       "</table>\n",
       "<p>38552 rows × 28 columns</p>\n",
       "</div>"
      ],
      "text/plain": [
       "       ROW_ID_x  SUBJECT_ID GENDER                  DOB                  DOD  \\\n",
       "52358     46520       99999      F  2054-01-06 00:00:00                  NaN   \n",
       "52357     46519       99995      F  2058-05-29 00:00:00  2147-09-29 00:00:00   \n",
       "52356     46518       99992      F  2078-10-17 00:00:00                  NaN   \n",
       "52355     46517       99991      M  2137-04-07 00:00:00                  NaN   \n",
       "52354     46516       99985      M  2127-04-08 00:00:00                  NaN   \n",
       "...         ...         ...    ...                  ...                  ...   \n",
       "307          10          11      F  2128-02-22 00:00:00  2178-11-14 00:00:00   \n",
       "305           8           9      M  2108-01-26 00:00:00  2149-11-14 00:00:00   \n",
       "302           5           6      F  2109-06-21 00:00:00                  NaN   \n",
       "300           3           4      F  2143-05-12 00:00:00                  NaN   \n",
       "299           2           3      M  2025-04-11 00:00:00  2102-06-14 00:00:00   \n",
       "\n",
       "                  DOD_HOSP              DOD_SSN  EXPIRE_FLAG  ROW_ID_y  \\\n",
       "52358                  NaN                  NaN            0     58976   \n",
       "52357                  NaN  2147-09-29 00:00:00            1     58975   \n",
       "52356                  NaN                  NaN            0     58974   \n",
       "52355                  NaN                  NaN            0     58973   \n",
       "52354                  NaN                  NaN            0     58972   \n",
       "...                    ...                  ...          ...       ...   \n",
       "307                    NaN  2178-11-14 00:00:00            1        10   \n",
       "305    2149-11-14 00:00:00  2149-11-14 00:00:00            1         8   \n",
       "302                    NaN                  NaN            0         5   \n",
       "300                    NaN                  NaN            0         3   \n",
       "299                    NaN  2102-06-14 00:00:00            1         2   \n",
       "\n",
       "       HADM_ID  ...           RELIGION MARITAL_STATUS              ETHNICITY  \\\n",
       "52358   113369  ...  JEHOVAH'S WITNESS      SEPARATED     HISPANIC OR LATINO   \n",
       "52357   137810  ...      NOT SPECIFIED        MARRIED                  WHITE   \n",
       "52356   197084  ...           CATHOLIC        WIDOWED                  WHITE   \n",
       "52355   151118  ...      NOT SPECIFIED        MARRIED                  WHITE   \n",
       "52354   176670  ...             JEWISH        MARRIED                  WHITE   \n",
       "...        ...  ...                ...            ...                    ...   \n",
       "307     194540  ...              OTHER        MARRIED                  WHITE   \n",
       "305     150750  ...       UNOBTAINABLE            NaN  UNKNOWN/NOT SPECIFIED   \n",
       "302     107064  ...      NOT SPECIFIED        MARRIED                  WHITE   \n",
       "300     185777  ...  PROTESTANT QUAKER         SINGLE                  WHITE   \n",
       "299     145834  ...           CATHOLIC        MARRIED                  WHITE   \n",
       "\n",
       "                 EDREGTIME            EDOUTTIME  \\\n",
       "52358                  NaN                  NaN   \n",
       "52357                  NaN                  NaN   \n",
       "52356  2144-07-25 13:40:00  2144-07-25 18:50:00   \n",
       "52355                  NaN                  NaN   \n",
       "52354  2181-01-26 23:35:00  2181-01-27 04:18:00   \n",
       "...                    ...                  ...   \n",
       "307    2178-04-15 20:46:00  2178-04-16 06:53:00   \n",
       "305    2149-11-09 11:13:00  2149-11-09 13:18:00   \n",
       "302                    NaN                  NaN   \n",
       "300    2191-03-15 13:10:00  2191-03-16 01:10:00   \n",
       "299    2101-10-20 17:09:00  2101-10-20 19:24:00   \n",
       "\n",
       "                                 DIAGNOSIS HOSPITAL_EXPIRE_FLAG  \\\n",
       "52358                SPONDYLOLISTHESIS/SDA                    0   \n",
       "52357        ABDOMINAL AORTIC ANEURYSM/SDA                    0   \n",
       "52356           RETROPERITONEAL HEMORRHAGE                    0   \n",
       "52355                   DIVERTICULITIS/SDA                    0   \n",
       "52354                                FEVER                    0   \n",
       "...                                    ...                  ...   \n",
       "307                             BRAIN MASS                    0   \n",
       "305                        HEMORRHAGIC CVA                    1   \n",
       "302              CHRONIC RENAL FAILURE/SDA                    0   \n",
       "300    FEVER,DEHYDRATION,FAILURE TO THRIVE                    0   \n",
       "299                            HYPOTENSION                    0   \n",
       "\n",
       "      HAS_CHARTEVENTS_DATA AGE AGE_GROUP  \n",
       "52358                    1  64     61-89  \n",
       "52357                    1  88     61-89  \n",
       "52356                    1  65     61-89  \n",
       "52355                    1  47     40-60  \n",
       "52354                    1  53     40-60  \n",
       "...                    ...  ..       ...  \n",
       "307                      1  50     40-60  \n",
       "305                      1  41     40-60  \n",
       "302                      1  65     61-89  \n",
       "300                      1  47     40-60  \n",
       "299                      1  76     61-89  \n",
       "\n",
       "[38552 rows x 28 columns]"
      ]
     },
     "execution_count": 107,
     "metadata": {},
     "output_type": "execute_result"
    }
   ],
   "source": [
    "df_filtered_last_adm = df_last_admission.loc[df_last_admission['AGE'] > 17]\n",
    "df_filtered_last_adm"
   ]
  },
  {
   "cell_type": "markdown",
   "metadata": {},
   "source": [
    "### Add imported ICD-9 Codes and Joins"
   ]
  },
  {
   "cell_type": "code",
   "execution_count": 108,
   "metadata": {},
   "outputs": [],
   "source": [
    "icd9_imported_categories['lvel5_code_replaced_dot'] = icd9_imported_categories['level5_code'].str.replace('.', '')"
   ]
  },
  {
   "cell_type": "code",
   "execution_count": 109,
   "metadata": {},
   "outputs": [
    {
     "data": {
      "text/plain": [
       "True"
      ]
     },
     "execution_count": 109,
     "metadata": {},
     "output_type": "execute_result"
    }
   ],
   "source": [
    "icd9_imported_categories['lvel5_code_replaced_dot'].is_unique"
   ]
  },
  {
   "cell_type": "code",
   "execution_count": 110,
   "metadata": {},
   "outputs": [
    {
     "data": {
      "text/html": [
       "<div>\n",
       "<style scoped>\n",
       "    .dataframe tbody tr th:only-of-type {\n",
       "        vertical-align: middle;\n",
       "    }\n",
       "\n",
       "    .dataframe tbody tr th {\n",
       "        vertical-align: top;\n",
       "    }\n",
       "\n",
       "    .dataframe thead th {\n",
       "        text-align: right;\n",
       "    }\n",
       "</style>\n",
       "<table border=\"1\" class=\"dataframe\">\n",
       "  <thead>\n",
       "    <tr style=\"text-align: right;\">\n",
       "      <th></th>\n",
       "      <th>level1_code</th>\n",
       "      <th>level1_description</th>\n",
       "      <th>level2_code</th>\n",
       "      <th>level2_description</th>\n",
       "      <th>level3_code</th>\n",
       "      <th>level3_description</th>\n",
       "      <th>level4_code</th>\n",
       "      <th>level4_description</th>\n",
       "      <th>level5_code</th>\n",
       "      <th>level5_description</th>\n",
       "      <th>lvel5_code_replaced_dot</th>\n",
       "      <th>ROW_ID</th>\n",
       "      <th>ICD9_CODE</th>\n",
       "      <th>SHORT_TITLE</th>\n",
       "      <th>LONG_TITLE</th>\n",
       "    </tr>\n",
       "  </thead>\n",
       "  <tbody>\n",
       "    <tr>\n",
       "      <th>0</th>\n",
       "      <td>001-139</td>\n",
       "      <td>Infectious And Parasitic Diseases</td>\n",
       "      <td>001-009</td>\n",
       "      <td>Intestinal Infectious Diseases</td>\n",
       "      <td>001</td>\n",
       "      <td>Cholera</td>\n",
       "      <td>001.0</td>\n",
       "      <td>Cholera due to vibrio cholerae</td>\n",
       "      <td>001.0</td>\n",
       "      <td>Cholera due to vibrio cholerae</td>\n",
       "      <td>0010</td>\n",
       "      <td>233</td>\n",
       "      <td>0010</td>\n",
       "      <td>Cholera d/t vib cholerae</td>\n",
       "      <td>Cholera due to vibrio cholerae</td>\n",
       "    </tr>\n",
       "    <tr>\n",
       "      <th>1</th>\n",
       "      <td>001-139</td>\n",
       "      <td>Infectious And Parasitic Diseases</td>\n",
       "      <td>001-009</td>\n",
       "      <td>Intestinal Infectious Diseases</td>\n",
       "      <td>001</td>\n",
       "      <td>Cholera</td>\n",
       "      <td>001.1</td>\n",
       "      <td>Cholera due to vibrio cholerae el tor</td>\n",
       "      <td>001.1</td>\n",
       "      <td>Cholera due to vibrio cholerae el tor</td>\n",
       "      <td>0011</td>\n",
       "      <td>234</td>\n",
       "      <td>0011</td>\n",
       "      <td>Cholera d/t vib el tor</td>\n",
       "      <td>Cholera due to vibrio cholerae el tor</td>\n",
       "    </tr>\n",
       "    <tr>\n",
       "      <th>2</th>\n",
       "      <td>001-139</td>\n",
       "      <td>Infectious And Parasitic Diseases</td>\n",
       "      <td>001-009</td>\n",
       "      <td>Intestinal Infectious Diseases</td>\n",
       "      <td>001</td>\n",
       "      <td>Cholera</td>\n",
       "      <td>001.9</td>\n",
       "      <td>Cholera, unspecified</td>\n",
       "      <td>001.9</td>\n",
       "      <td>Cholera, unspecified</td>\n",
       "      <td>0019</td>\n",
       "      <td>235</td>\n",
       "      <td>0019</td>\n",
       "      <td>Cholera NOS</td>\n",
       "      <td>Cholera, unspecified</td>\n",
       "    </tr>\n",
       "    <tr>\n",
       "      <th>3</th>\n",
       "      <td>001-139</td>\n",
       "      <td>Infectious And Parasitic Diseases</td>\n",
       "      <td>001-009</td>\n",
       "      <td>Intestinal Infectious Diseases</td>\n",
       "      <td>002</td>\n",
       "      <td>Typhoid and paratyphoid fevers</td>\n",
       "      <td>002.0</td>\n",
       "      <td>Typhoid fever</td>\n",
       "      <td>002.0</td>\n",
       "      <td>Typhoid fever</td>\n",
       "      <td>0020</td>\n",
       "      <td>236</td>\n",
       "      <td>0020</td>\n",
       "      <td>Typhoid fever</td>\n",
       "      <td>Typhoid fever</td>\n",
       "    </tr>\n",
       "    <tr>\n",
       "      <th>4</th>\n",
       "      <td>001-139</td>\n",
       "      <td>Infectious And Parasitic Diseases</td>\n",
       "      <td>001-009</td>\n",
       "      <td>Intestinal Infectious Diseases</td>\n",
       "      <td>002</td>\n",
       "      <td>Typhoid and paratyphoid fevers</td>\n",
       "      <td>002.1</td>\n",
       "      <td>Paratyphoid fever A</td>\n",
       "      <td>002.1</td>\n",
       "      <td>Paratyphoid fever A</td>\n",
       "      <td>0021</td>\n",
       "      <td>237</td>\n",
       "      <td>0021</td>\n",
       "      <td>Paratyphoid fever a</td>\n",
       "      <td>Paratyphoid fever A</td>\n",
       "    </tr>\n",
       "    <tr>\n",
       "      <th>...</th>\n",
       "      <td>...</td>\n",
       "      <td>...</td>\n",
       "      <td>...</td>\n",
       "      <td>...</td>\n",
       "      <td>...</td>\n",
       "      <td>...</td>\n",
       "      <td>...</td>\n",
       "      <td>...</td>\n",
       "      <td>...</td>\n",
       "      <td>...</td>\n",
       "      <td>...</td>\n",
       "      <td>...</td>\n",
       "      <td>...</td>\n",
       "      <td>...</td>\n",
       "      <td>...</td>\n",
       "    </tr>\n",
       "    <tr>\n",
       "      <th>14562</th>\n",
       "      <td>740-759</td>\n",
       "      <td>Congenital Anomalies</td>\n",
       "      <td>740-759</td>\n",
       "      <td>Congenital Anomalies</td>\n",
       "      <td>759</td>\n",
       "      <td>Other and unspecified congenital anomalies</td>\n",
       "      <td>759.81</td>\n",
       "      <td>Prader-Willi syndrome</td>\n",
       "      <td>759.81</td>\n",
       "      <td>Prader-Willi syndrome</td>\n",
       "      <td>75981</td>\n",
       "      <td>7881</td>\n",
       "      <td>75981</td>\n",
       "      <td>Prader-willi syndrome</td>\n",
       "      <td>Prader-Willi syndrome</td>\n",
       "    </tr>\n",
       "    <tr>\n",
       "      <th>14563</th>\n",
       "      <td>740-759</td>\n",
       "      <td>Congenital Anomalies</td>\n",
       "      <td>740-759</td>\n",
       "      <td>Congenital Anomalies</td>\n",
       "      <td>759</td>\n",
       "      <td>Other and unspecified congenital anomalies</td>\n",
       "      <td>759.82</td>\n",
       "      <td>Marfan syndrome</td>\n",
       "      <td>759.82</td>\n",
       "      <td>Marfan syndrome</td>\n",
       "      <td>75982</td>\n",
       "      <td>7882</td>\n",
       "      <td>75982</td>\n",
       "      <td>Marfan syndrome</td>\n",
       "      <td>Marfan syndrome</td>\n",
       "    </tr>\n",
       "    <tr>\n",
       "      <th>14564</th>\n",
       "      <td>740-759</td>\n",
       "      <td>Congenital Anomalies</td>\n",
       "      <td>740-759</td>\n",
       "      <td>Congenital Anomalies</td>\n",
       "      <td>759</td>\n",
       "      <td>Other and unspecified congenital anomalies</td>\n",
       "      <td>759.83</td>\n",
       "      <td>Fragile X syndrome</td>\n",
       "      <td>759.83</td>\n",
       "      <td>Fragile X syndrome</td>\n",
       "      <td>75983</td>\n",
       "      <td>7883</td>\n",
       "      <td>75983</td>\n",
       "      <td>Fragile x syndrome</td>\n",
       "      <td>Fragile X syndrome</td>\n",
       "    </tr>\n",
       "    <tr>\n",
       "      <th>14565</th>\n",
       "      <td>740-759</td>\n",
       "      <td>Congenital Anomalies</td>\n",
       "      <td>740-759</td>\n",
       "      <td>Congenital Anomalies</td>\n",
       "      <td>759</td>\n",
       "      <td>Other and unspecified congenital anomalies</td>\n",
       "      <td>759.89</td>\n",
       "      <td>Other specified congenital anomalies</td>\n",
       "      <td>759.89</td>\n",
       "      <td>Other specified congenital anomalies</td>\n",
       "      <td>75989</td>\n",
       "      <td>7884</td>\n",
       "      <td>75989</td>\n",
       "      <td>Specfied cong anomal NEC</td>\n",
       "      <td>Other specified congenital anomalies</td>\n",
       "    </tr>\n",
       "    <tr>\n",
       "      <th>14566</th>\n",
       "      <td>740-759</td>\n",
       "      <td>Congenital Anomalies</td>\n",
       "      <td>740-759</td>\n",
       "      <td>Congenital Anomalies</td>\n",
       "      <td>759</td>\n",
       "      <td>Other and unspecified congenital anomalies</td>\n",
       "      <td>759.9</td>\n",
       "      <td>Congenital anomaly, unspecified</td>\n",
       "      <td>759.9</td>\n",
       "      <td>Congenital anomaly, unspecified</td>\n",
       "      <td>7599</td>\n",
       "      <td>7885</td>\n",
       "      <td>7599</td>\n",
       "      <td>Congenital anomaly NOS</td>\n",
       "      <td>Congenital anomaly, unspecified</td>\n",
       "    </tr>\n",
       "  </tbody>\n",
       "</table>\n",
       "<p>14567 rows × 15 columns</p>\n",
       "</div>"
      ],
      "text/plain": [
       "      level1_code                 level1_description level2_code  \\\n",
       "0         001-139  Infectious And Parasitic Diseases     001-009   \n",
       "1         001-139  Infectious And Parasitic Diseases     001-009   \n",
       "2         001-139  Infectious And Parasitic Diseases     001-009   \n",
       "3         001-139  Infectious And Parasitic Diseases     001-009   \n",
       "4         001-139  Infectious And Parasitic Diseases     001-009   \n",
       "...           ...                                ...         ...   \n",
       "14562     740-759               Congenital Anomalies     740-759   \n",
       "14563     740-759               Congenital Anomalies     740-759   \n",
       "14564     740-759               Congenital Anomalies     740-759   \n",
       "14565     740-759               Congenital Anomalies     740-759   \n",
       "14566     740-759               Congenital Anomalies     740-759   \n",
       "\n",
       "                   level2_description level3_code  \\\n",
       "0      Intestinal Infectious Diseases         001   \n",
       "1      Intestinal Infectious Diseases         001   \n",
       "2      Intestinal Infectious Diseases         001   \n",
       "3      Intestinal Infectious Diseases         002   \n",
       "4      Intestinal Infectious Diseases         002   \n",
       "...                               ...         ...   \n",
       "14562            Congenital Anomalies         759   \n",
       "14563            Congenital Anomalies         759   \n",
       "14564            Congenital Anomalies         759   \n",
       "14565            Congenital Anomalies         759   \n",
       "14566            Congenital Anomalies         759   \n",
       "\n",
       "                               level3_description level4_code  \\\n",
       "0                                         Cholera       001.0   \n",
       "1                                         Cholera       001.1   \n",
       "2                                         Cholera       001.9   \n",
       "3                  Typhoid and paratyphoid fevers       002.0   \n",
       "4                  Typhoid and paratyphoid fevers       002.1   \n",
       "...                                           ...         ...   \n",
       "14562  Other and unspecified congenital anomalies      759.81   \n",
       "14563  Other and unspecified congenital anomalies      759.82   \n",
       "14564  Other and unspecified congenital anomalies      759.83   \n",
       "14565  Other and unspecified congenital anomalies      759.89   \n",
       "14566  Other and unspecified congenital anomalies       759.9   \n",
       "\n",
       "                          level4_description level5_code  \\\n",
       "0             Cholera due to vibrio cholerae       001.0   \n",
       "1      Cholera due to vibrio cholerae el tor       001.1   \n",
       "2                       Cholera, unspecified       001.9   \n",
       "3                              Typhoid fever       002.0   \n",
       "4                        Paratyphoid fever A       002.1   \n",
       "...                                      ...         ...   \n",
       "14562                  Prader-Willi syndrome      759.81   \n",
       "14563                        Marfan syndrome      759.82   \n",
       "14564                     Fragile X syndrome      759.83   \n",
       "14565   Other specified congenital anomalies      759.89   \n",
       "14566        Congenital anomaly, unspecified       759.9   \n",
       "\n",
       "                          level5_description lvel5_code_replaced_dot  ROW_ID  \\\n",
       "0             Cholera due to vibrio cholerae                    0010     233   \n",
       "1      Cholera due to vibrio cholerae el tor                    0011     234   \n",
       "2                       Cholera, unspecified                    0019     235   \n",
       "3                              Typhoid fever                    0020     236   \n",
       "4                        Paratyphoid fever A                    0021     237   \n",
       "...                                      ...                     ...     ...   \n",
       "14562                  Prader-Willi syndrome                   75981    7881   \n",
       "14563                        Marfan syndrome                   75982    7882   \n",
       "14564                     Fragile X syndrome                   75983    7883   \n",
       "14565   Other specified congenital anomalies                   75989    7884   \n",
       "14566        Congenital anomaly, unspecified                    7599    7885   \n",
       "\n",
       "      ICD9_CODE               SHORT_TITLE  \\\n",
       "0          0010  Cholera d/t vib cholerae   \n",
       "1          0011    Cholera d/t vib el tor   \n",
       "2          0019               Cholera NOS   \n",
       "3          0020             Typhoid fever   \n",
       "4          0021       Paratyphoid fever a   \n",
       "...         ...                       ...   \n",
       "14562     75981     Prader-willi syndrome   \n",
       "14563     75982           Marfan syndrome   \n",
       "14564     75983        Fragile x syndrome   \n",
       "14565     75989  Specfied cong anomal NEC   \n",
       "14566      7599    Congenital anomaly NOS   \n",
       "\n",
       "                                  LONG_TITLE  \n",
       "0             Cholera due to vibrio cholerae  \n",
       "1      Cholera due to vibrio cholerae el tor  \n",
       "2                       Cholera, unspecified  \n",
       "3                              Typhoid fever  \n",
       "4                        Paratyphoid fever A  \n",
       "...                                      ...  \n",
       "14562                  Prader-Willi syndrome  \n",
       "14563                        Marfan syndrome  \n",
       "14564                     Fragile X syndrome  \n",
       "14565   Other specified congenital anomalies  \n",
       "14566        Congenital anomaly, unspecified  \n",
       "\n",
       "[14567 rows x 15 columns]"
      ]
     },
     "execution_count": 110,
     "metadata": {},
     "output_type": "execute_result"
    }
   ],
   "source": [
    "icd9_imported_categories.merge(d_icd_diagnoses_df, left_on='lvel5_code_replaced_dot', right_on='ICD9_CODE', how='inner')"
   ]
  },
  {
   "cell_type": "code",
   "execution_count": 111,
   "metadata": {},
   "outputs": [
    {
     "data": {
      "text/plain": [
       "14567"
      ]
     },
     "execution_count": 111,
     "metadata": {},
     "output_type": "execute_result"
    }
   ],
   "source": [
    "len(d_icd_diagnoses_df)"
   ]
  },
  {
   "cell_type": "code",
   "execution_count": 112,
   "metadata": {},
   "outputs": [],
   "source": [
    "df_merged_codes = d_icd_diagnoses_df.merge(icd9_imported_categories, left_on='ICD9_CODE', right_on='lvel5_code_replaced_dot', how='left')"
   ]
  },
  {
   "cell_type": "code",
   "execution_count": 113,
   "metadata": {},
   "outputs": [
    {
     "name": "stdout",
     "output_type": "stream",
     "text": [
      "0\n"
     ]
    },
    {
     "data": {
      "text/plain": [
       "array([], dtype=object)"
      ]
     },
     "execution_count": 113,
     "metadata": {},
     "output_type": "execute_result"
    }
   ],
   "source": [
    "# this helped me find any bucket missing from scrapping the icd9 codes\n",
    "df_not_merged_codes = df_merged_codes.loc[df_merged_codes['level5_code'].isna()]\n",
    "print(len(df_not_merged_codes))\n",
    "df_not_merged_codes['ICD9_CODE'].apply(lambda x: x[:3]).unique()"
   ]
  },
  {
   "cell_type": "code",
   "execution_count": 114,
   "metadata": {},
   "outputs": [],
   "source": [
    "df_merged_codes.dropna(subset=['level5_code'], inplace=True)\n",
    "df_merged_codes.reset_index(drop=True, inplace=True)"
   ]
  },
  {
   "cell_type": "code",
   "execution_count": 115,
   "metadata": {},
   "outputs": [
    {
     "data": {
      "text/html": [
       "<div>\n",
       "<style scoped>\n",
       "    .dataframe tbody tr th:only-of-type {\n",
       "        vertical-align: middle;\n",
       "    }\n",
       "\n",
       "    .dataframe tbody tr th {\n",
       "        vertical-align: top;\n",
       "    }\n",
       "\n",
       "    .dataframe thead th {\n",
       "        text-align: right;\n",
       "    }\n",
       "</style>\n",
       "<table border=\"1\" class=\"dataframe\">\n",
       "  <thead>\n",
       "    <tr style=\"text-align: right;\">\n",
       "      <th></th>\n",
       "      <th>ICD9_CODE</th>\n",
       "      <th>SHORT_TITLE</th>\n",
       "      <th>level4_description</th>\n",
       "    </tr>\n",
       "  </thead>\n",
       "  <tbody>\n",
       "    <tr>\n",
       "      <th>12380</th>\n",
       "      <td>73309</td>\n",
       "      <td>Osteoporosis NEC</td>\n",
       "      <td>Osteoporosis</td>\n",
       "    </tr>\n",
       "    <tr>\n",
       "      <th>3273</th>\n",
       "      <td>29515</td>\n",
       "      <td>Hebephrenia-remission</td>\n",
       "      <td>Disorganized type schizophrenia</td>\n",
       "    </tr>\n",
       "    <tr>\n",
       "      <th>11367</th>\n",
       "      <td>E0077</td>\n",
       "      <td>Volleyball (beach,court)</td>\n",
       "      <td>Activities involving volleyball (beach) (court)</td>\n",
       "    </tr>\n",
       "    <tr>\n",
       "      <th>1869</th>\n",
       "      <td>20293</td>\n",
       "      <td>Lymphoid mal NEC abdom</td>\n",
       "      <td>Other and unspecified malignant neoplasms of l...</td>\n",
       "    </tr>\n",
       "    <tr>\n",
       "      <th>8819</th>\n",
       "      <td>85251</td>\n",
       "      <td>Extradural hemor-no coma</td>\n",
       "      <td>Extradural hemorrhage following injury with op...</td>\n",
       "    </tr>\n",
       "    <tr>\n",
       "      <th>13204</th>\n",
       "      <td>V031</td>\n",
       "      <td>Vacc-typhoid-paratyphoid</td>\n",
       "      <td>Need for prophylactic vaccination and inoculat...</td>\n",
       "    </tr>\n",
       "    <tr>\n",
       "      <th>467</th>\n",
       "      <td>04510</td>\n",
       "      <td>Paral polio NEC-type NOS</td>\n",
       "      <td>Acute poliomyelitis with other paralysis</td>\n",
       "    </tr>\n",
       "    <tr>\n",
       "      <th>710</th>\n",
       "      <td>01324</td>\n",
       "      <td>Tubrcloma brain-cult dx</td>\n",
       "      <td>Tuberculoma of brain</td>\n",
       "    </tr>\n",
       "    <tr>\n",
       "      <th>8905</th>\n",
       "      <td>71934</td>\n",
       "      <td>Palindrom rheum-hand</td>\n",
       "      <td>Palindromic rheumatism</td>\n",
       "    </tr>\n",
       "    <tr>\n",
       "      <th>1892</th>\n",
       "      <td>20422</td>\n",
       "      <td>Sbac lym leuk in relapse</td>\n",
       "      <td>Lymphoid leukemia subacute</td>\n",
       "    </tr>\n",
       "    <tr>\n",
       "      <th>13310</th>\n",
       "      <td>72810</td>\n",
       "      <td>Muscular calcificat NOS</td>\n",
       "      <td>Muscular calcification and ossification</td>\n",
       "    </tr>\n",
       "    <tr>\n",
       "      <th>3064</th>\n",
       "      <td>3200</td>\n",
       "      <td>Hemophilus meningitis</td>\n",
       "      <td>Hemophilus meningitis</td>\n",
       "    </tr>\n",
       "    <tr>\n",
       "      <th>8674</th>\n",
       "      <td>76401</td>\n",
       "      <td>Light-for-dates &lt;500g</td>\n",
       "      <td>Light-for-dates infant without mention of feta...</td>\n",
       "    </tr>\n",
       "    <tr>\n",
       "      <th>13384</th>\n",
       "      <td>V1279</td>\n",
       "      <td>Prsnl hst ot spf dgst ds</td>\n",
       "      <td>Personal history of digestive disease</td>\n",
       "    </tr>\n",
       "    <tr>\n",
       "      <th>5861</th>\n",
       "      <td>5772</td>\n",
       "      <td>Pancreat cyst/pseudocyst</td>\n",
       "      <td>Cyst and pseudocyst of pancreas</td>\n",
       "    </tr>\n",
       "    <tr>\n",
       "      <th>13274</th>\n",
       "      <td>66961</td>\n",
       "      <td>Breech extr NOS-deliver</td>\n",
       "      <td>Breech extraction without mention of indication</td>\n",
       "    </tr>\n",
       "    <tr>\n",
       "      <th>6577</th>\n",
       "      <td>6011</td>\n",
       "      <td>Chronic prostatitis</td>\n",
       "      <td>Chronic prostatitis</td>\n",
       "    </tr>\n",
       "    <tr>\n",
       "      <th>3478</th>\n",
       "      <td>34440</td>\n",
       "      <td>Monplga upr lmb unsp sde</td>\n",
       "      <td>Monoplegia of upper limb</td>\n",
       "    </tr>\n",
       "    <tr>\n",
       "      <th>10311</th>\n",
       "      <td>99603</td>\n",
       "      <td>Malfunc coron bypass grf</td>\n",
       "      <td>Mechanical complication of cardiac device impl...</td>\n",
       "    </tr>\n",
       "    <tr>\n",
       "      <th>11155</th>\n",
       "      <td>E8722</td>\n",
       "      <td>Fail sterile perfusn NEC</td>\n",
       "      <td>Failure of sterile precautions during kidney d...</td>\n",
       "    </tr>\n",
       "  </tbody>\n",
       "</table>\n",
       "</div>"
      ],
      "text/plain": [
       "      ICD9_CODE               SHORT_TITLE  \\\n",
       "12380     73309          Osteoporosis NEC   \n",
       "3273      29515     Hebephrenia-remission   \n",
       "11367     E0077  Volleyball (beach,court)   \n",
       "1869      20293    Lymphoid mal NEC abdom   \n",
       "8819      85251  Extradural hemor-no coma   \n",
       "13204      V031  Vacc-typhoid-paratyphoid   \n",
       "467       04510  Paral polio NEC-type NOS   \n",
       "710       01324   Tubrcloma brain-cult dx   \n",
       "8905      71934      Palindrom rheum-hand   \n",
       "1892      20422  Sbac lym leuk in relapse   \n",
       "13310     72810   Muscular calcificat NOS   \n",
       "3064       3200     Hemophilus meningitis   \n",
       "8674      76401     Light-for-dates <500g   \n",
       "13384     V1279  Prsnl hst ot spf dgst ds   \n",
       "5861       5772  Pancreat cyst/pseudocyst   \n",
       "13274     66961   Breech extr NOS-deliver   \n",
       "6577       6011       Chronic prostatitis   \n",
       "3478      34440  Monplga upr lmb unsp sde   \n",
       "10311     99603  Malfunc coron bypass grf   \n",
       "11155     E8722  Fail sterile perfusn NEC   \n",
       "\n",
       "                                      level4_description  \n",
       "12380                                       Osteoporosis  \n",
       "3273                     Disorganized type schizophrenia  \n",
       "11367    Activities involving volleyball (beach) (court)  \n",
       "1869   Other and unspecified malignant neoplasms of l...  \n",
       "8819   Extradural hemorrhage following injury with op...  \n",
       "13204  Need for prophylactic vaccination and inoculat...  \n",
       "467             Acute poliomyelitis with other paralysis  \n",
       "710                                 Tuberculoma of brain  \n",
       "8905                              Palindromic rheumatism  \n",
       "1892                          Lymphoid leukemia subacute  \n",
       "13310            Muscular calcification and ossification  \n",
       "3064                               Hemophilus meningitis  \n",
       "8674   Light-for-dates infant without mention of feta...  \n",
       "13384              Personal history of digestive disease  \n",
       "5861                     Cyst and pseudocyst of pancreas  \n",
       "13274    Breech extraction without mention of indication  \n",
       "6577                                 Chronic prostatitis  \n",
       "3478                            Monoplegia of upper limb  \n",
       "10311  Mechanical complication of cardiac device impl...  \n",
       "11155  Failure of sterile precautions during kidney d...  "
      ]
     },
     "execution_count": 115,
     "metadata": {},
     "output_type": "execute_result"
    }
   ],
   "source": [
    "#random checking that my merge is fine and that the data are correctly scrapped\n",
    "df_merged_codes.loc[np.random.randint(0, len(df_merged_codes)-1, 20),['ICD9_CODE','SHORT_TITLE','level4_description']]"
   ]
  },
  {
   "cell_type": "code",
   "execution_count": 116,
   "metadata": {},
   "outputs": [
    {
     "data": {
      "text/html": [
       "<div>\n",
       "<style scoped>\n",
       "    .dataframe tbody tr th:only-of-type {\n",
       "        vertical-align: middle;\n",
       "    }\n",
       "\n",
       "    .dataframe tbody tr th {\n",
       "        vertical-align: top;\n",
       "    }\n",
       "\n",
       "    .dataframe thead th {\n",
       "        text-align: right;\n",
       "    }\n",
       "</style>\n",
       "<table border=\"1\" class=\"dataframe\">\n",
       "  <thead>\n",
       "    <tr style=\"text-align: right;\">\n",
       "      <th></th>\n",
       "      <th>level1_code</th>\n",
       "      <th>level1_description</th>\n",
       "      <th>level2_code</th>\n",
       "      <th>level2_description</th>\n",
       "      <th>level3_code</th>\n",
       "      <th>level3_description</th>\n",
       "      <th>level4_code</th>\n",
       "      <th>level4_description</th>\n",
       "      <th>level5_code</th>\n",
       "      <th>level5_description</th>\n",
       "      <th>lvel5_code_replaced_dot</th>\n",
       "    </tr>\n",
       "  </thead>\n",
       "  <tbody>\n",
       "    <tr>\n",
       "      <th>1350</th>\n",
       "      <td>001-139</td>\n",
       "      <td>Infectious And Parasitic Diseases</td>\n",
       "      <td>120-129</td>\n",
       "      <td>Helminthiases</td>\n",
       "      <td>128</td>\n",
       "      <td>Other and unspecified helminthiases</td>\n",
       "      <td>128.0</td>\n",
       "      <td>Toxocariasis</td>\n",
       "      <td>128.0</td>\n",
       "      <td>Toxocariasis</td>\n",
       "      <td>1280</td>\n",
       "    </tr>\n",
       "    <tr>\n",
       "      <th>1351</th>\n",
       "      <td>001-139</td>\n",
       "      <td>Infectious And Parasitic Diseases</td>\n",
       "      <td>120-129</td>\n",
       "      <td>Helminthiases</td>\n",
       "      <td>128</td>\n",
       "      <td>Other and unspecified helminthiases</td>\n",
       "      <td>128.1</td>\n",
       "      <td>Gnathostomiasis</td>\n",
       "      <td>128.1</td>\n",
       "      <td>Gnathostomiasis</td>\n",
       "      <td>1281</td>\n",
       "    </tr>\n",
       "    <tr>\n",
       "      <th>1352</th>\n",
       "      <td>001-139</td>\n",
       "      <td>Infectious And Parasitic Diseases</td>\n",
       "      <td>120-129</td>\n",
       "      <td>Helminthiases</td>\n",
       "      <td>128</td>\n",
       "      <td>Other and unspecified helminthiases</td>\n",
       "      <td>128.8</td>\n",
       "      <td>Other specified helminthiasis</td>\n",
       "      <td>128.8</td>\n",
       "      <td>Other specified helminthiasis</td>\n",
       "      <td>1288</td>\n",
       "    </tr>\n",
       "    <tr>\n",
       "      <th>1353</th>\n",
       "      <td>001-139</td>\n",
       "      <td>Infectious And Parasitic Diseases</td>\n",
       "      <td>120-129</td>\n",
       "      <td>Helminthiases</td>\n",
       "      <td>128</td>\n",
       "      <td>Other and unspecified helminthiases</td>\n",
       "      <td>128.9</td>\n",
       "      <td>Helminth infection, unspecified</td>\n",
       "      <td>128.9</td>\n",
       "      <td>Helminth infection, unspecified</td>\n",
       "      <td>1289</td>\n",
       "    </tr>\n",
       "    <tr>\n",
       "      <th>2356</th>\n",
       "      <td>140-239</td>\n",
       "      <td>Neoplasms</td>\n",
       "      <td>210-229</td>\n",
       "      <td>Benign Neoplasms</td>\n",
       "      <td>228</td>\n",
       "      <td>Hemangioma and lymphangioma any site</td>\n",
       "      <td>228.0</td>\n",
       "      <td>Hemangioma any site</td>\n",
       "      <td>228.0</td>\n",
       "      <td>Hemangioma any site</td>\n",
       "      <td>2280</td>\n",
       "    </tr>\n",
       "    <tr>\n",
       "      <th>...</th>\n",
       "      <td>...</td>\n",
       "      <td>...</td>\n",
       "      <td>...</td>\n",
       "      <td>...</td>\n",
       "      <td>...</td>\n",
       "      <td>...</td>\n",
       "      <td>...</td>\n",
       "      <td>...</td>\n",
       "      <td>...</td>\n",
       "      <td>...</td>\n",
       "      <td>...</td>\n",
       "    </tr>\n",
       "    <tr>\n",
       "      <th>15971</th>\n",
       "      <td>280-289</td>\n",
       "      <td>Diseases Of The Blood And Blood-Forming Organs</td>\n",
       "      <td>280-289</td>\n",
       "      <td>Diseases Of The Blood And Blood-Forming Organs</td>\n",
       "      <td>289</td>\n",
       "      <td>Other diseases of blood and blood-forming organs</td>\n",
       "      <td>289.82</td>\n",
       "      <td>Secondary hypercoagulable state</td>\n",
       "      <td>289.82</td>\n",
       "      <td>Secondary hypercoagulable state</td>\n",
       "      <td>28982</td>\n",
       "    </tr>\n",
       "    <tr>\n",
       "      <th>15972</th>\n",
       "      <td>280-289</td>\n",
       "      <td>Diseases Of The Blood And Blood-Forming Organs</td>\n",
       "      <td>280-289</td>\n",
       "      <td>Diseases Of The Blood And Blood-Forming Organs</td>\n",
       "      <td>289</td>\n",
       "      <td>Other diseases of blood and blood-forming organs</td>\n",
       "      <td>289.83</td>\n",
       "      <td>Myelofibrosis</td>\n",
       "      <td>289.83</td>\n",
       "      <td>Myelofibrosis</td>\n",
       "      <td>28983</td>\n",
       "    </tr>\n",
       "    <tr>\n",
       "      <th>15973</th>\n",
       "      <td>280-289</td>\n",
       "      <td>Diseases Of The Blood And Blood-Forming Organs</td>\n",
       "      <td>280-289</td>\n",
       "      <td>Diseases Of The Blood And Blood-Forming Organs</td>\n",
       "      <td>289</td>\n",
       "      <td>Other diseases of blood and blood-forming organs</td>\n",
       "      <td>289.84</td>\n",
       "      <td>Heparin-induced thrombocytopenia (HIT)</td>\n",
       "      <td>289.84</td>\n",
       "      <td>Heparin-induced thrombocytopenia (HIT)</td>\n",
       "      <td>28984</td>\n",
       "    </tr>\n",
       "    <tr>\n",
       "      <th>15974</th>\n",
       "      <td>280-289</td>\n",
       "      <td>Diseases Of The Blood And Blood-Forming Organs</td>\n",
       "      <td>280-289</td>\n",
       "      <td>Diseases Of The Blood And Blood-Forming Organs</td>\n",
       "      <td>289</td>\n",
       "      <td>Other diseases of blood and blood-forming organs</td>\n",
       "      <td>289.89</td>\n",
       "      <td>Other specified diseases of blood and blood-fo...</td>\n",
       "      <td>289.89</td>\n",
       "      <td>Other specified diseases of blood and blood-fo...</td>\n",
       "      <td>28989</td>\n",
       "    </tr>\n",
       "    <tr>\n",
       "      <th>15975</th>\n",
       "      <td>280-289</td>\n",
       "      <td>Diseases Of The Blood And Blood-Forming Organs</td>\n",
       "      <td>280-289</td>\n",
       "      <td>Diseases Of The Blood And Blood-Forming Organs</td>\n",
       "      <td>289</td>\n",
       "      <td>Other diseases of blood and blood-forming organs</td>\n",
       "      <td>289.9</td>\n",
       "      <td>Unspecified diseases of blood and blood-formin...</td>\n",
       "      <td>289.9</td>\n",
       "      <td>Unspecified diseases of blood and blood-formin...</td>\n",
       "      <td>2899</td>\n",
       "    </tr>\n",
       "  </tbody>\n",
       "</table>\n",
       "<p>259 rows × 11 columns</p>\n",
       "</div>"
      ],
      "text/plain": [
       "      level1_code                              level1_description level2_code  \\\n",
       "1350      001-139               Infectious And Parasitic Diseases     120-129   \n",
       "1351      001-139               Infectious And Parasitic Diseases     120-129   \n",
       "1352      001-139               Infectious And Parasitic Diseases     120-129   \n",
       "1353      001-139               Infectious And Parasitic Diseases     120-129   \n",
       "2356      140-239                                       Neoplasms     210-229   \n",
       "...           ...                                             ...         ...   \n",
       "15971     280-289  Diseases Of The Blood And Blood-Forming Organs     280-289   \n",
       "15972     280-289  Diseases Of The Blood And Blood-Forming Organs     280-289   \n",
       "15973     280-289  Diseases Of The Blood And Blood-Forming Organs     280-289   \n",
       "15974     280-289  Diseases Of The Blood And Blood-Forming Organs     280-289   \n",
       "15975     280-289  Diseases Of The Blood And Blood-Forming Organs     280-289   \n",
       "\n",
       "                                   level2_description level3_code  \\\n",
       "1350                                    Helminthiases         128   \n",
       "1351                                    Helminthiases         128   \n",
       "1352                                    Helminthiases         128   \n",
       "1353                                    Helminthiases         128   \n",
       "2356                                 Benign Neoplasms         228   \n",
       "...                                               ...         ...   \n",
       "15971  Diseases Of The Blood And Blood-Forming Organs         289   \n",
       "15972  Diseases Of The Blood And Blood-Forming Organs         289   \n",
       "15973  Diseases Of The Blood And Blood-Forming Organs         289   \n",
       "15974  Diseases Of The Blood And Blood-Forming Organs         289   \n",
       "15975  Diseases Of The Blood And Blood-Forming Organs         289   \n",
       "\n",
       "                                     level3_description level4_code  \\\n",
       "1350                Other and unspecified helminthiases       128.0   \n",
       "1351                Other and unspecified helminthiases       128.1   \n",
       "1352                Other and unspecified helminthiases       128.8   \n",
       "1353                Other and unspecified helminthiases       128.9   \n",
       "2356               Hemangioma and lymphangioma any site       228.0   \n",
       "...                                                 ...         ...   \n",
       "15971  Other diseases of blood and blood-forming organs      289.82   \n",
       "15972  Other diseases of blood and blood-forming organs      289.83   \n",
       "15973  Other diseases of blood and blood-forming organs      289.84   \n",
       "15974  Other diseases of blood and blood-forming organs      289.89   \n",
       "15975  Other diseases of blood and blood-forming organs       289.9   \n",
       "\n",
       "                                      level4_description level5_code  \\\n",
       "1350                                        Toxocariasis       128.0   \n",
       "1351                                     Gnathostomiasis       128.1   \n",
       "1352                       Other specified helminthiasis       128.8   \n",
       "1353                     Helminth infection, unspecified       128.9   \n",
       "2356                                 Hemangioma any site       228.0   \n",
       "...                                                  ...         ...   \n",
       "15971                    Secondary hypercoagulable state      289.82   \n",
       "15972                                      Myelofibrosis      289.83   \n",
       "15973             Heparin-induced thrombocytopenia (HIT)      289.84   \n",
       "15974  Other specified diseases of blood and blood-fo...      289.89   \n",
       "15975  Unspecified diseases of blood and blood-formin...       289.9   \n",
       "\n",
       "                                      level5_description  \\\n",
       "1350                                        Toxocariasis   \n",
       "1351                                     Gnathostomiasis   \n",
       "1352                       Other specified helminthiasis   \n",
       "1353                     Helminth infection, unspecified   \n",
       "2356                                 Hemangioma any site   \n",
       "...                                                  ...   \n",
       "15971                    Secondary hypercoagulable state   \n",
       "15972                                      Myelofibrosis   \n",
       "15973             Heparin-induced thrombocytopenia (HIT)   \n",
       "15974  Other specified diseases of blood and blood-fo...   \n",
       "15975  Unspecified diseases of blood and blood-formin...   \n",
       "\n",
       "      lvel5_code_replaced_dot  \n",
       "1350                     1280  \n",
       "1351                     1281  \n",
       "1352                     1288  \n",
       "1353                     1289  \n",
       "2356                     2280  \n",
       "...                       ...  \n",
       "15971                   28982  \n",
       "15972                   28983  \n",
       "15973                   28984  \n",
       "15974                   28989  \n",
       "15975                    2899  \n",
       "\n",
       "[259 rows x 11 columns]"
      ]
     },
     "execution_count": 116,
     "metadata": {},
     "output_type": "execute_result"
    }
   ],
   "source": [
    "icd9_imported_categories.loc[icd9_imported_categories['level3_code'].str.contains('28')]\n"
   ]
  },
  {
   "cell_type": "markdown",
   "metadata": {},
   "source": [
    "### Sparse matrix "
   ]
  },
  {
   "cell_type": "markdown",
   "metadata": {},
   "source": [
    "We are going to use for first analyses the level 3 codes"
   ]
  },
  {
   "cell_type": "code",
   "execution_count": 117,
   "metadata": {},
   "outputs": [
    {
     "data": {
      "text/plain": [
       "1234"
      ]
     },
     "execution_count": 117,
     "metadata": {},
     "output_type": "execute_result"
    }
   ],
   "source": [
    "icd9_imported_categories['level3_code'].unique().__len__()"
   ]
  },
  {
   "cell_type": "code",
   "execution_count": 118,
   "metadata": {},
   "outputs": [
    {
     "name": "stdout",
     "output_type": "stream",
     "text": [
      "38552\n"
     ]
    },
    {
     "data": {
      "text/plain": [
       "Index(['ROW_ID_x', 'SUBJECT_ID', 'GENDER', 'DOB', 'DOD', 'DOD_HOSP', 'DOD_SSN',\n",
       "       'EXPIRE_FLAG', 'ROW_ID_y', 'HADM_ID', 'ADMITTIME', 'DISCHTIME',\n",
       "       'DEATHTIME', 'ADMISSION_TYPE', 'ADMISSION_LOCATION',\n",
       "       'DISCHARGE_LOCATION', 'INSURANCE', 'LANGUAGE', 'RELIGION',\n",
       "       'MARITAL_STATUS', 'ETHNICITY', 'EDREGTIME', 'EDOUTTIME', 'DIAGNOSIS',\n",
       "       'HOSPITAL_EXPIRE_FLAG', 'HAS_CHARTEVENTS_DATA', 'AGE', 'AGE_GROUP'],\n",
       "      dtype='object')"
      ]
     },
     "execution_count": 118,
     "metadata": {},
     "output_type": "execute_result"
    }
   ],
   "source": [
    "print(len(df_filtered_last_adm))\n",
    "df_filtered_last_adm.columns"
   ]
  },
  {
   "cell_type": "code",
   "execution_count": 80,
   "metadata": {},
   "outputs": [
    {
     "name": "stdout",
     "output_type": "stream",
     "text": [
      "651047\n",
      "Index(['ROW_ID', 'SUBJECT_ID', 'HADM_ID', 'SEQ_NUM', 'ICD9_CODE'], dtype='object')\n"
     ]
    }
   ],
   "source": [
    "print(len(diagnoses_icd_df))\n",
    "print(diagnoses_icd_df.columns)"
   ]
  },
  {
   "cell_type": "code",
   "execution_count": 82,
   "metadata": {},
   "outputs": [],
   "source": [
    "df_merge_last_adm_icd = df_filtered_last_adm.merge(diagnoses_icd_df, on='HADM_ID', how='inner')\n",
    "#toDo check the missed missed icd codes that are from NEWBORN \n",
    "# and the 100 kids younger than 18 years old"
   ]
  },
  {
   "cell_type": "code",
   "execution_count": 79,
   "metadata": {},
   "outputs": [
    {
     "data": {
      "text/html": [
       "<div>\n",
       "<style scoped>\n",
       "    .dataframe tbody tr th:only-of-type {\n",
       "        vertical-align: middle;\n",
       "    }\n",
       "\n",
       "    .dataframe tbody tr th {\n",
       "        vertical-align: top;\n",
       "    }\n",
       "\n",
       "    .dataframe thead th {\n",
       "        text-align: right;\n",
       "    }\n",
       "</style>\n",
       "<table border=\"1\" class=\"dataframe\">\n",
       "  <thead>\n",
       "    <tr style=\"text-align: right;\">\n",
       "      <th></th>\n",
       "      <th>HADM_ID</th>\n",
       "      <th>ICD9_CODE</th>\n",
       "    </tr>\n",
       "  </thead>\n",
       "  <tbody>\n",
       "    <tr>\n",
       "      <th>0</th>\n",
       "      <td>113369</td>\n",
       "      <td>75612</td>\n",
       "    </tr>\n",
       "    <tr>\n",
       "      <th>1</th>\n",
       "      <td>113369</td>\n",
       "      <td>7861</td>\n",
       "    </tr>\n",
       "    <tr>\n",
       "      <th>2</th>\n",
       "      <td>113369</td>\n",
       "      <td>4019</td>\n",
       "    </tr>\n",
       "    <tr>\n",
       "      <th>3</th>\n",
       "      <td>113369</td>\n",
       "      <td>25000</td>\n",
       "    </tr>\n",
       "    <tr>\n",
       "      <th>4</th>\n",
       "      <td>113369</td>\n",
       "      <td>4139</td>\n",
       "    </tr>\n",
       "  </tbody>\n",
       "</table>\n",
       "</div>"
      ],
      "text/plain": [
       "   HADM_ID ICD9_CODE\n",
       "0   113369     75612\n",
       "1   113369      7861\n",
       "2   113369      4019\n",
       "3   113369     25000\n",
       "4   113369      4139"
      ]
     },
     "execution_count": 79,
     "metadata": {},
     "output_type": "execute_result"
    }
   ],
   "source": [
    "df_merge_last_adm_icd[['HADM_ID','ICD9_CODE']].head()"
   ]
  },
  {
   "cell_type": "code",
   "execution_count": 61,
   "metadata": {},
   "outputs": [],
   "source": [
    "# Making a transaction matrix with admission and patients"
   ]
  },
  {
   "cell_type": "code",
   "execution_count": 90,
   "metadata": {},
   "outputs": [],
   "source": [
    "# analyses with level3 codes\n",
    "lvl = 3\n",
    "unique_icd_codes = df_merge_last_adm_icd['ICD9_CODE'].str[:lvl].unique()"
   ]
  },
  {
   "cell_type": "code",
   "execution_count": 91,
   "metadata": {},
   "outputs": [],
   "source": [
    "from scipy import sparse\n",
    "unique_patients = df_merge_last_adm_icd['HADM_ID'].unique()"
   ]
  },
  {
   "cell_type": "code",
   "execution_count": 92,
   "metadata": {},
   "outputs": [],
   "source": [
    "patient_disease_matrix = sparse.csr_matrix((len(unique_patients), len(unique_icd_codes)), dtype=int)"
   ]
  },
  {
   "cell_type": "code",
   "execution_count": 98,
   "metadata": {},
   "outputs": [
    {
     "data": {
      "text/plain": [
       "(38552, 902)"
      ]
     },
     "execution_count": 98,
     "metadata": {},
     "output_type": "execute_result"
    }
   ],
   "source": [
    "patient_disease_matrix.shape"
   ]
  },
  {
   "cell_type": "code",
   "execution_count": 99,
   "metadata": {},
   "outputs": [],
   "source": [
    "#38552, 902"
   ]
  },
  {
   "cell_type": "code",
   "execution_count": 2,
   "metadata": {},
   "outputs": [
    {
     "ename": "NameError",
     "evalue": "name 'df_merge_last_adm_icd' is not defined",
     "output_type": "error",
     "traceback": [
      "\u001b[1;31m---------------------------------------------------------------------------\u001b[0m",
      "\u001b[1;31mNameError\u001b[0m                                 Traceback (most recent call last)",
      "Cell \u001b[1;32mIn[2], line 1\u001b[0m\n\u001b[1;32m----> 1\u001b[0m \u001b[43mdf_merge_last_adm_icd\u001b[49m[[\u001b[38;5;124m'\u001b[39m\u001b[38;5;124mHADM_ID\u001b[39m\u001b[38;5;124m'\u001b[39m,\u001b[38;5;124m'\u001b[39m\u001b[38;5;124mICD9_CODE\u001b[39m\u001b[38;5;124m'\u001b[39m]][\u001b[38;5;124m'\u001b[39m\u001b[38;5;124mHADM_ID\u001b[39m\u001b[38;5;124m'\u001b[39m]\u001b[38;5;241m.\u001b[39mtolist()\n",
      "\u001b[1;31mNameError\u001b[0m: name 'df_merge_last_adm_icd' is not defined"
     ]
    }
   ],
   "source": [
    "df_merge_last_adm_icd[['HADM_ID','ICD9_CODE']]['HADM_ID'].tolist()"
   ]
  },
  {
   "cell_type": "code",
   "execution_count": 115,
   "metadata": {},
   "outputs": [
    {
     "ename": "ValueError",
     "evalue": "'nan' is not in list",
     "output_type": "error",
     "traceback": [
      "\u001b[1;31m---------------------------------------------------------------------------\u001b[0m",
      "\u001b[1;31mValueError\u001b[0m                                Traceback (most recent call last)",
      "Cell \u001b[1;32mIn[115], line 5\u001b[0m\n\u001b[0;32m      3\u001b[0m icd_code \u001b[38;5;241m=\u001b[39m \u001b[38;5;28mstr\u001b[39m(row[\u001b[38;5;124m'\u001b[39m\u001b[38;5;124mICD9_CODE\u001b[39m\u001b[38;5;124m'\u001b[39m])[:lvl]\n\u001b[0;32m      4\u001b[0m patient_idx \u001b[38;5;241m=\u001b[39m unique_patients\u001b[38;5;241m.\u001b[39mtolist()\u001b[38;5;241m.\u001b[39mindex(patient_id)\n\u001b[1;32m----> 5\u001b[0m icd_idx \u001b[38;5;241m=\u001b[39m unique_icd_codes\u001b[38;5;241m.\u001b[39mtolist()\u001b[38;5;241m.\u001b[39mindex(icd_code)\n\u001b[0;32m      6\u001b[0m patient_disease_matrix[patient_idx, icd_idx] \u001b[38;5;241m=\u001b[39m \u001b[38;5;241m1\u001b[39m\n",
      "\u001b[1;31mValueError\u001b[0m: 'nan' is not in list"
     ]
    }
   ],
   "source": [
    "for index, row in df_merge_last_adm_icd[['HADM_ID','ICD9_CODE']].iterrows():\n",
    "  patient_id = row['HADM_ID']\n",
    "  icd_code = str(row['ICD9_CODE'])[:lvl]\n",
    "  patient_idx = unique_patients.tolist().index(patient_id)\n",
    "  icd_idx = unique_icd_codes.tolist().index(icd_code)\n",
    "  patient_disease_matrix[patient_idx, icd_idx] = 1"
   ]
  },
  {
   "cell_type": "code",
   "execution_count": null,
   "metadata": {},
   "outputs": [],
   "source": [
    "print(patient_disease_matrix.toarray())"
   ]
  },
  {
   "cell_type": "markdown",
   "metadata": {},
   "source": [
    "## Method"
   ]
  },
  {
   "cell_type": "code",
   "execution_count": null,
   "metadata": {},
   "outputs": [],
   "source": []
  },
  {
   "cell_type": "code",
   "execution_count": null,
   "metadata": {},
   "outputs": [],
   "source": [
    "import networkx as nx\n",
    "G = nx.from_scipy_sparse_matrix(patient_disease_matrix)\n",
    "\n"
   ]
  }
 ],
 "metadata": {
  "kernelspec": {
   "display_name": "Python 3",
   "language": "python",
   "name": "python3"
  },
  "language_info": {
   "codemirror_mode": {
    "name": "ipython",
    "version": 3
   },
   "file_extension": ".py",
   "mimetype": "text/x-python",
   "name": "python",
   "nbconvert_exporter": "python",
   "pygments_lexer": "ipython3",
   "version": "3.11.5"
  }
 },
 "nbformat": 4,
 "nbformat_minor": 2
}
